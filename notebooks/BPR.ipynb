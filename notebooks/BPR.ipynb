{
 "cells": [
  {
   "cell_type": "code",
   "execution_count": 1,
   "id": "281a9958-e691-4ff3-bfb9-1a7fc2beec1d",
   "metadata": {},
   "outputs": [],
   "source": [
    "import os\n",
    "import sys\n",
    "\n",
    "os.environ[\"CUDA_DEVICE_ORDER\"] = \"PCI_BUS_ID\"\n",
    "os.environ[\"CUDA_VISIBLE_DEVICES\"] = \"0\"\n",
    "sys.path.append('../')"
   ]
  },
  {
   "cell_type": "code",
   "execution_count": 2,
   "id": "96da0f91-c34a-48dc-9329-32076f13cf27",
   "metadata": {
    "tags": []
   },
   "outputs": [],
   "source": [
    "import gc\n",
    "from collections import Counter\n",
    "from typing import Callable, List, Tuple\n",
    "\n",
    "from implicit.bpr import BayesianPersonalizedRanking\n",
    "import pandas as pd\n",
    "import numpy as np\n",
    "from scipy.sparse import csr_matrix\n",
    "from sklearn.model_selection import ParameterGrid\n",
    "from sklearn.model_selection import train_test_split\n",
    "from scipy.sparse import csr_matrix, diags\n",
    "from scipy.sparse.linalg import svds\n",
    "import time\n",
    "from tqdm import tqdm\n",
    "\n",
    "from src.preprocess import add_time_idx\n",
    "from src.prepare_data import train_val_test_split, get_users_history\n",
    "from src.SVD import SVD\n",
    "from src.unbiased_metrics import get_metrics, hr, mrr, ndcg"
   ]
  },
  {
   "cell_type": "markdown",
   "id": "e1f26311-561e-4955-910c-a8ca48646370",
   "metadata": {},
   "source": [
    "## Load Data"
   ]
  },
  {
   "cell_type": "code",
   "execution_count": 3,
   "id": "e9f09eca-5f2b-4953-ac64-0f123f4b0d08",
   "metadata": {},
   "outputs": [],
   "source": [
    "train = pd.read_csv('train.csv')\n",
    "test = pd.read_csv('test.csv')\n",
    "val_1 = pd.read_csv('val_1.csv')\n",
    "val_2 = pd.read_csv('val_2.csv')\n",
    "test_users_history = pd.read_csv('test_users_history.csv')\n",
    "val_users_history_1 = pd.read_csv('val_users_history_1.csv')\n",
    "val_users_history_2 = pd.read_csv('val_users_history_2.csv')"
   ]
  },
  {
   "cell_type": "markdown",
   "id": "5e47c229-93c5-4722-bd23-72b1782f19e2",
   "metadata": {},
   "source": [
    "# Hyper parameters selection "
   ]
  },
  {
   "cell_type": "code",
   "execution_count": 58,
   "id": "991602e4-9c38-4de6-899a-f0f69c6f2c26",
   "metadata": {},
   "outputs": [],
   "source": [
    "def get_mapping(X: pd.DataFrame):\n",
    "    item_ids = X['item_id'].unique().tolist()\n",
    "    n_items = len(item_ids)\n",
    "    item_idx = range(n_items)\n",
    "\n",
    "    user_ids = X['user_id'].unique().tolist()\n",
    "    n_users = len(user_ids)\n",
    "    user_idx = range(n_users)\n",
    "    \n",
    "    return dict(zip(item_ids, item_idx)), dict(zip(user_ids, user_idx))"
   ]
  },
  {
   "cell_type": "code",
   "execution_count": 60,
   "id": "8bf52b2b-62f6-439c-a951-0e09d0914b02",
   "metadata": {},
   "outputs": [],
   "source": [
    "item_mapping_, user_mapping_ = get_mapping(train)\n",
    "train['item_id'] = train['item_id'].map(item_mapping_)\n",
    "train['user_id'] = train['user_id'].map(user_mapping_)"
   ]
  },
  {
   "cell_type": "code",
   "execution_count": 72,
   "id": "f2f5aa70-c721-4ce8-8ffa-e6cba5d39f7f",
   "metadata": {},
   "outputs": [],
   "source": [
    "def generate_interactions_matrix(X: pd.DataFrame, user_col: str = 'user_id'):\n",
    "    item_idx = X['item_id'].values\n",
    "    user_idx = X[user_col].values\n",
    "    ratings = X['rating'].values\n",
    "    return csr_matrix(\n",
    "        (ratings, (user_idx, item_idx)),\n",
    "        shape=(X[user_col].max() + 1, X['item_id'].max() + 1),\n",
    "        dtype=np.int8\n",
    "        )"
   ]
  },
  {
   "cell_type": "code",
   "execution_count": 81,
   "id": "a05ede67-9982-4212-86e0-4e3aeeabd598",
   "metadata": {},
   "outputs": [],
   "source": [
    "def predict_folding_in(X: pd.DataFrame, item_factors: np.array, item_mapping_: dict):\n",
    "    X = X.copy() \n",
    "    X['item_id'] = X['item_id'].map(item_mapping_)\n",
    "    \n",
    "    prediction_matrix = generate_interactions_matrix(X, user_col='test_user_idx')\n",
    "    return predict(prediction_matrix, item_factors)\n",
    "\n",
    "def predict(matrix: csr_matrix, item_factors: np.array):\n",
    "    # обнуление скоров для айтемов из обучающей выборки, чтобы они не попали в рекомендации\n",
    "    # учтено, что среди скоров будет достаточное количество положительных\n",
    "    return np.multiply(\n",
    "        matrix.dot(item_factors) @ item_factors.T,\n",
    "        np.invert(matrix.astype(bool).toarray())\n",
    "        )\n",
    "\n",
    "def get_top_k(scores: np.array, item_mapping_: dict, user_col: str = 'test_user_idx', batch_size: int = 70000, k: int = 10):\n",
    "    id2item = {v: k for k, v in item_mapping_.items()}\n",
    "    preds = pd.DataFrame()\n",
    "\n",
    "    for batch_ind_left in tqdm(range(0, scores.shape[0], batch_size)):\n",
    "        batch_ind_right = min(batch_ind_left + batch_size, scores.shape[0])\n",
    "        ind_part = np.argpartition(\n",
    "            scores[batch_ind_left: batch_ind_right],\n",
    "            -k + 1\n",
    "            )[:, -k:].copy()\n",
    "        scores_not_sorted = np.take_along_axis(\n",
    "            scores[batch_ind_left: batch_ind_right],\n",
    "            ind_part,\n",
    "            axis=1\n",
    "            )\n",
    "        ind_sorted = np.argsort(scores_not_sorted, axis=1)\n",
    "        indices = np.take_along_axis(ind_part, ind_sorted, axis=1)\n",
    "        preds = pd.concat([preds, pd.DataFrame({\n",
    "            user_col: range(batch_ind_left, batch_ind_right),\n",
    "            'pred_items': indices.tolist()\n",
    "            })])\n",
    "\n",
    "        gc.collect()\n",
    "\n",
    "    preds['pred_items'] = preds['pred_items'].map(lambda inds: [id2item[i] for i in inds])\n",
    "    return preds"
   ]
  },
  {
   "cell_type": "code",
   "execution_count": 97,
   "id": "eaeb704b-5baf-43af-ad96-438ddbf03f08",
   "metadata": {},
   "outputs": [],
   "source": [
    "def grid_search(param_list: list, \n",
    "                train_sparse: csr_matrix, \n",
    "                val_history: pd.DataFrame, \n",
    "                val: pd.DataFrame) -> Tuple[list, float]:\n",
    "    best_params = param_list[0]\n",
    "    max_ndcg = -1\n",
    "    for params in param_list:\n",
    "        bpr = BayesianPersonalizedRanking(**params)\n",
    "        bpr.fit(train_sparse)\n",
    "        scores = predict_folding_in(val_history, bpr.item_factors, item_mapping_)\n",
    "        preds = get_top_k(scores, item_mapping_, user_col='test_user_idx')      \n",
    "        \n",
    "        preds = preds.merge(val, on='test_user_idx', how='inner') \n",
    "        preds = preds[preds['rating'] >= 3.5]\n",
    "        \n",
    "        cur_ndcg = ndcg(preds)\n",
    "        print(f'params = {params}')\n",
    "        print(f'ndcg = {cur_ndcg}')\n",
    "        \n",
    "        if cur_ndcg > max_ndcg:\n",
    "            max_ndcg = cur_ndcg\n",
    "            best_params = params\n",
    "    return best_params, max_ndcg"
   ]
  },
  {
   "cell_type": "code",
   "execution_count": 91,
   "id": "c8093292-1483-4f81-9a66-593c3d77e00a",
   "metadata": {},
   "outputs": [],
   "source": [
    "train_sparse = generate_interactions_matrix(train)"
   ]
  },
  {
   "cell_type": "code",
   "execution_count": 94,
   "id": "6dabfa53-9072-43c4-8cd5-503eee8d1cb6",
   "metadata": {},
   "outputs": [],
   "source": [
    "param_grid = {'learning_rate': [0.1, 0.05, 0.01, 0.005],\n",
    "              'regularization': [0.05, 0.01],\n",
    "              'factors': np.linspace(50, 500, 10).astype(int),\n",
    "              'use_gpu': [False]}\n",
    "param_list = list(ParameterGrid(param_grid))"
   ]
  },
  {
   "cell_type": "code",
   "execution_count": 98,
   "id": "8821ce85-6de8-47ea-8e0b-e03d7b8dc5c4",
   "metadata": {},
   "outputs": [
    {
     "data": {
      "application/vnd.jupyter.widget-view+json": {
       "model_id": "5a04f5fcda06437596e7db29f1d65664",
       "version_major": 2,
       "version_minor": 0
      },
      "text/plain": [
       "  0%|          | 0/100 [00:00<?, ?it/s]"
      ]
     },
     "metadata": {},
     "output_type": "display_data"
    },
    {
     "name": "stderr",
     "output_type": "stream",
     "text": [
      "100%|██████████| 1/1 [00:01<00:00,  1.04s/it]\n"
     ]
    },
    {
     "name": "stdout",
     "output_type": "stream",
     "text": [
      "params = {'factors': 50, 'learning_rate': 0.1, 'regularization': 0.05, 'use_gpu': False}\n",
      "ndcg = 0.0117\n"
     ]
    },
    {
     "data": {
      "application/vnd.jupyter.widget-view+json": {
       "model_id": "ea978fdfff174b5bbbda6f64030c688f",
       "version_major": 2,
       "version_minor": 0
      },
      "text/plain": [
       "  0%|          | 0/100 [00:00<?, ?it/s]"
      ]
     },
     "metadata": {},
     "output_type": "display_data"
    },
    {
     "name": "stderr",
     "output_type": "stream",
     "text": [
      "100%|██████████| 1/1 [00:01<00:00,  1.01s/it]\n"
     ]
    },
    {
     "name": "stdout",
     "output_type": "stream",
     "text": [
      "params = {'factors': 50, 'learning_rate': 0.1, 'regularization': 0.01, 'use_gpu': False}\n",
      "ndcg = 0.0176\n"
     ]
    },
    {
     "data": {
      "application/vnd.jupyter.widget-view+json": {
       "model_id": "2c91fc0994374595859af5e9b2cff795",
       "version_major": 2,
       "version_minor": 0
      },
      "text/plain": [
       "  0%|          | 0/100 [00:00<?, ?it/s]"
      ]
     },
     "metadata": {},
     "output_type": "display_data"
    },
    {
     "name": "stderr",
     "output_type": "stream",
     "text": [
      "100%|██████████| 1/1 [00:00<00:00,  1.02it/s]\n"
     ]
    },
    {
     "name": "stdout",
     "output_type": "stream",
     "text": [
      "params = {'factors': 50, 'learning_rate': 0.05, 'regularization': 0.05, 'use_gpu': False}\n",
      "ndcg = 0.011436\n"
     ]
    },
    {
     "data": {
      "application/vnd.jupyter.widget-view+json": {
       "model_id": "2a9aab56b2704bbab6c806a98b430968",
       "version_major": 2,
       "version_minor": 0
      },
      "text/plain": [
       "  0%|          | 0/100 [00:00<?, ?it/s]"
      ]
     },
     "metadata": {},
     "output_type": "display_data"
    },
    {
     "name": "stderr",
     "output_type": "stream",
     "text": [
      "100%|██████████| 1/1 [00:00<00:00,  1.03it/s]\n"
     ]
    },
    {
     "name": "stdout",
     "output_type": "stream",
     "text": [
      "params = {'factors': 50, 'learning_rate': 0.05, 'regularization': 0.01, 'use_gpu': False}\n",
      "ndcg = 0.017956\n"
     ]
    },
    {
     "data": {
      "application/vnd.jupyter.widget-view+json": {
       "model_id": "65836810fc524907a7c7a61b84cd689b",
       "version_major": 2,
       "version_minor": 0
      },
      "text/plain": [
       "  0%|          | 0/100 [00:00<?, ?it/s]"
      ]
     },
     "metadata": {},
     "output_type": "display_data"
    },
    {
     "name": "stderr",
     "output_type": "stream",
     "text": [
      "100%|██████████| 1/1 [00:01<00:00,  1.01s/it]\n"
     ]
    },
    {
     "name": "stdout",
     "output_type": "stream",
     "text": [
      "params = {'factors': 50, 'learning_rate': 0.01, 'regularization': 0.05, 'use_gpu': False}\n",
      "ndcg = 0.012468\n"
     ]
    },
    {
     "data": {
      "application/vnd.jupyter.widget-view+json": {
       "model_id": "0f476dc77d1e453298a621a1a2d0b218",
       "version_major": 2,
       "version_minor": 0
      },
      "text/plain": [
       "  0%|          | 0/100 [00:00<?, ?it/s]"
      ]
     },
     "metadata": {},
     "output_type": "display_data"
    },
    {
     "name": "stderr",
     "output_type": "stream",
     "text": [
      "100%|██████████| 1/1 [00:00<00:00,  1.06it/s]\n"
     ]
    },
    {
     "name": "stdout",
     "output_type": "stream",
     "text": [
      "params = {'factors': 50, 'learning_rate': 0.01, 'regularization': 0.01, 'use_gpu': False}\n",
      "ndcg = 0.019959\n"
     ]
    },
    {
     "data": {
      "application/vnd.jupyter.widget-view+json": {
       "model_id": "3ae4aa451def4c9296131d3a18b773a4",
       "version_major": 2,
       "version_minor": 0
      },
      "text/plain": [
       "  0%|          | 0/100 [00:00<?, ?it/s]"
      ]
     },
     "metadata": {},
     "output_type": "display_data"
    },
    {
     "name": "stderr",
     "output_type": "stream",
     "text": [
      "100%|██████████| 1/1 [00:01<00:00,  1.07s/it]\n"
     ]
    },
    {
     "name": "stdout",
     "output_type": "stream",
     "text": [
      "params = {'factors': 50, 'learning_rate': 0.005, 'regularization': 0.05, 'use_gpu': False}\n",
      "ndcg = 0.01306\n"
     ]
    },
    {
     "data": {
      "application/vnd.jupyter.widget-view+json": {
       "model_id": "192381e024af42dcb81d9ef2ba629468",
       "version_major": 2,
       "version_minor": 0
      },
      "text/plain": [
       "  0%|          | 0/100 [00:00<?, ?it/s]"
      ]
     },
     "metadata": {},
     "output_type": "display_data"
    },
    {
     "name": "stderr",
     "output_type": "stream",
     "text": [
      "100%|██████████| 1/1 [00:00<00:00,  1.02it/s]\n"
     ]
    },
    {
     "name": "stdout",
     "output_type": "stream",
     "text": [
      "params = {'factors': 50, 'learning_rate': 0.005, 'regularization': 0.01, 'use_gpu': False}\n",
      "ndcg = 0.021999\n"
     ]
    },
    {
     "data": {
      "application/vnd.jupyter.widget-view+json": {
       "model_id": "cba475c1d10c4e97acd4a08c3ad3d783",
       "version_major": 2,
       "version_minor": 0
      },
      "text/plain": [
       "  0%|          | 0/100 [00:00<?, ?it/s]"
      ]
     },
     "metadata": {},
     "output_type": "display_data"
    },
    {
     "name": "stderr",
     "output_type": "stream",
     "text": [
      "100%|██████████| 1/1 [00:00<00:00,  1.01it/s]\n"
     ]
    },
    {
     "name": "stdout",
     "output_type": "stream",
     "text": [
      "params = {'factors': 100, 'learning_rate': 0.1, 'regularization': 0.05, 'use_gpu': False}\n",
      "ndcg = 0.010744\n"
     ]
    },
    {
     "data": {
      "application/vnd.jupyter.widget-view+json": {
       "model_id": "666b270732624906af4558c749863519",
       "version_major": 2,
       "version_minor": 0
      },
      "text/plain": [
       "  0%|          | 0/100 [00:00<?, ?it/s]"
      ]
     },
     "metadata": {},
     "output_type": "display_data"
    },
    {
     "name": "stderr",
     "output_type": "stream",
     "text": [
      "100%|██████████| 1/1 [00:01<00:00,  1.04s/it]\n"
     ]
    },
    {
     "name": "stdout",
     "output_type": "stream",
     "text": [
      "params = {'factors': 100, 'learning_rate': 0.1, 'regularization': 0.01, 'use_gpu': False}\n",
      "ndcg = 0.017319\n"
     ]
    },
    {
     "data": {
      "application/vnd.jupyter.widget-view+json": {
       "model_id": "ed50b0ec59e64913bcdd327b63586ecb",
       "version_major": 2,
       "version_minor": 0
      },
      "text/plain": [
       "  0%|          | 0/100 [00:00<?, ?it/s]"
      ]
     },
     "metadata": {},
     "output_type": "display_data"
    },
    {
     "name": "stderr",
     "output_type": "stream",
     "text": [
      "100%|██████████| 1/1 [00:00<00:00,  1.02it/s]\n"
     ]
    },
    {
     "name": "stdout",
     "output_type": "stream",
     "text": [
      "params = {'factors': 100, 'learning_rate': 0.05, 'regularization': 0.05, 'use_gpu': False}\n",
      "ndcg = 0.011114\n"
     ]
    },
    {
     "data": {
      "application/vnd.jupyter.widget-view+json": {
       "model_id": "afe7b212838842c384315507d9d3cc51",
       "version_major": 2,
       "version_minor": 0
      },
      "text/plain": [
       "  0%|          | 0/100 [00:00<?, ?it/s]"
      ]
     },
     "metadata": {},
     "output_type": "display_data"
    },
    {
     "name": "stderr",
     "output_type": "stream",
     "text": [
      "100%|██████████| 1/1 [00:00<00:00,  1.02it/s]\n"
     ]
    },
    {
     "name": "stdout",
     "output_type": "stream",
     "text": [
      "params = {'factors': 100, 'learning_rate': 0.05, 'regularization': 0.01, 'use_gpu': False}\n",
      "ndcg = 0.018522\n"
     ]
    },
    {
     "data": {
      "application/vnd.jupyter.widget-view+json": {
       "model_id": "32354563bb354670be57ce116d9c53f8",
       "version_major": 2,
       "version_minor": 0
      },
      "text/plain": [
       "  0%|          | 0/100 [00:00<?, ?it/s]"
      ]
     },
     "metadata": {},
     "output_type": "display_data"
    },
    {
     "name": "stderr",
     "output_type": "stream",
     "text": [
      "100%|██████████| 1/1 [00:01<00:00,  1.01s/it]\n"
     ]
    },
    {
     "name": "stdout",
     "output_type": "stream",
     "text": [
      "params = {'factors': 100, 'learning_rate': 0.01, 'regularization': 0.05, 'use_gpu': False}\n",
      "ndcg = 0.012646\n"
     ]
    },
    {
     "data": {
      "application/vnd.jupyter.widget-view+json": {
       "model_id": "c0b9cf4828f34d0ba77ab988835951ca",
       "version_major": 2,
       "version_minor": 0
      },
      "text/plain": [
       "  0%|          | 0/100 [00:00<?, ?it/s]"
      ]
     },
     "metadata": {},
     "output_type": "display_data"
    },
    {
     "name": "stderr",
     "output_type": "stream",
     "text": [
      "100%|██████████| 1/1 [00:00<00:00,  1.04it/s]\n"
     ]
    },
    {
     "name": "stdout",
     "output_type": "stream",
     "text": [
      "params = {'factors': 100, 'learning_rate': 0.01, 'regularization': 0.01, 'use_gpu': False}\n",
      "ndcg = 0.020698\n"
     ]
    },
    {
     "data": {
      "application/vnd.jupyter.widget-view+json": {
       "model_id": "b28a8bd99f0b438085b6d89f71c08e81",
       "version_major": 2,
       "version_minor": 0
      },
      "text/plain": [
       "  0%|          | 0/100 [00:00<?, ?it/s]"
      ]
     },
     "metadata": {},
     "output_type": "display_data"
    },
    {
     "name": "stderr",
     "output_type": "stream",
     "text": [
      "100%|██████████| 1/1 [00:01<00:00,  1.04s/it]\n"
     ]
    },
    {
     "name": "stdout",
     "output_type": "stream",
     "text": [
      "params = {'factors': 100, 'learning_rate': 0.005, 'regularization': 0.05, 'use_gpu': False}\n",
      "ndcg = 0.013981\n"
     ]
    },
    {
     "data": {
      "application/vnd.jupyter.widget-view+json": {
       "model_id": "794adb6f89514b249599a1b18f181ace",
       "version_major": 2,
       "version_minor": 0
      },
      "text/plain": [
       "  0%|          | 0/100 [00:00<?, ?it/s]"
      ]
     },
     "metadata": {},
     "output_type": "display_data"
    },
    {
     "name": "stderr",
     "output_type": "stream",
     "text": [
      "100%|██████████| 1/1 [00:00<00:00,  1.01it/s]\n"
     ]
    },
    {
     "name": "stdout",
     "output_type": "stream",
     "text": [
      "params = {'factors': 100, 'learning_rate': 0.005, 'regularization': 0.01, 'use_gpu': False}\n",
      "ndcg = 0.022201\n"
     ]
    },
    {
     "data": {
      "application/vnd.jupyter.widget-view+json": {
       "model_id": "03738d8043054de8b2f0ae733db37402",
       "version_major": 2,
       "version_minor": 0
      },
      "text/plain": [
       "  0%|          | 0/100 [00:00<?, ?it/s]"
      ]
     },
     "metadata": {},
     "output_type": "display_data"
    },
    {
     "name": "stderr",
     "output_type": "stream",
     "text": [
      "100%|██████████| 1/1 [00:00<00:00,  1.00it/s]\n"
     ]
    },
    {
     "name": "stdout",
     "output_type": "stream",
     "text": [
      "params = {'factors': 150, 'learning_rate': 0.1, 'regularization': 0.05, 'use_gpu': False}\n",
      "ndcg = 0.01117\n"
     ]
    },
    {
     "data": {
      "application/vnd.jupyter.widget-view+json": {
       "model_id": "5e26fcf5930c41b2bbcf7da51ddf6f08",
       "version_major": 2,
       "version_minor": 0
      },
      "text/plain": [
       "  0%|          | 0/100 [00:00<?, ?it/s]"
      ]
     },
     "metadata": {},
     "output_type": "display_data"
    },
    {
     "name": "stderr",
     "output_type": "stream",
     "text": [
      "100%|██████████| 1/1 [00:01<00:00,  1.03s/it]\n"
     ]
    },
    {
     "name": "stdout",
     "output_type": "stream",
     "text": [
      "params = {'factors': 150, 'learning_rate': 0.1, 'regularization': 0.01, 'use_gpu': False}\n",
      "ndcg = 0.017989\n"
     ]
    },
    {
     "data": {
      "application/vnd.jupyter.widget-view+json": {
       "model_id": "b56cda3c57f446909003e6592a8bbd56",
       "version_major": 2,
       "version_minor": 0
      },
      "text/plain": [
       "  0%|          | 0/100 [00:00<?, ?it/s]"
      ]
     },
     "metadata": {},
     "output_type": "display_data"
    },
    {
     "name": "stderr",
     "output_type": "stream",
     "text": [
      "100%|██████████| 1/1 [00:00<00:00,  1.04it/s]\n"
     ]
    },
    {
     "name": "stdout",
     "output_type": "stream",
     "text": [
      "params = {'factors': 150, 'learning_rate': 0.05, 'regularization': 0.05, 'use_gpu': False}\n",
      "ndcg = 0.011434\n"
     ]
    },
    {
     "data": {
      "application/vnd.jupyter.widget-view+json": {
       "model_id": "084b669e889d4f9183d274840963ef63",
       "version_major": 2,
       "version_minor": 0
      },
      "text/plain": [
       "  0%|          | 0/100 [00:00<?, ?it/s]"
      ]
     },
     "metadata": {},
     "output_type": "display_data"
    },
    {
     "name": "stderr",
     "output_type": "stream",
     "text": [
      "100%|██████████| 1/1 [00:01<00:00,  1.02s/it]\n"
     ]
    },
    {
     "name": "stdout",
     "output_type": "stream",
     "text": [
      "params = {'factors': 150, 'learning_rate': 0.05, 'regularization': 0.01, 'use_gpu': False}\n",
      "ndcg = 0.018587\n"
     ]
    },
    {
     "data": {
      "application/vnd.jupyter.widget-view+json": {
       "model_id": "77e1313c361e46e5b96e8fa6aed818a0",
       "version_major": 2,
       "version_minor": 0
      },
      "text/plain": [
       "  0%|          | 0/100 [00:00<?, ?it/s]"
      ]
     },
     "metadata": {},
     "output_type": "display_data"
    },
    {
     "name": "stderr",
     "output_type": "stream",
     "text": [
      "100%|██████████| 1/1 [00:01<00:00,  1.01s/it]\n"
     ]
    },
    {
     "name": "stdout",
     "output_type": "stream",
     "text": [
      "params = {'factors': 150, 'learning_rate': 0.01, 'regularization': 0.05, 'use_gpu': False}\n",
      "ndcg = 0.012407\n"
     ]
    },
    {
     "data": {
      "application/vnd.jupyter.widget-view+json": {
       "model_id": "39097059d6c04d4aa4d9c766daec39e4",
       "version_major": 2,
       "version_minor": 0
      },
      "text/plain": [
       "  0%|          | 0/100 [00:00<?, ?it/s]"
      ]
     },
     "metadata": {},
     "output_type": "display_data"
    },
    {
     "name": "stderr",
     "output_type": "stream",
     "text": [
      "100%|██████████| 1/1 [00:00<00:00,  1.03it/s]\n"
     ]
    },
    {
     "name": "stdout",
     "output_type": "stream",
     "text": [
      "params = {'factors': 150, 'learning_rate': 0.01, 'regularization': 0.01, 'use_gpu': False}\n",
      "ndcg = 0.019675\n"
     ]
    },
    {
     "data": {
      "application/vnd.jupyter.widget-view+json": {
       "model_id": "2ea512c0d70c4ef5bad906864e1dfe36",
       "version_major": 2,
       "version_minor": 0
      },
      "text/plain": [
       "  0%|          | 0/100 [00:00<?, ?it/s]"
      ]
     },
     "metadata": {},
     "output_type": "display_data"
    },
    {
     "name": "stderr",
     "output_type": "stream",
     "text": [
      "100%|██████████| 1/1 [00:01<00:00,  1.02s/it]\n"
     ]
    },
    {
     "name": "stdout",
     "output_type": "stream",
     "text": [
      "params = {'factors': 150, 'learning_rate': 0.005, 'regularization': 0.05, 'use_gpu': False}\n",
      "ndcg = 0.013202\n"
     ]
    },
    {
     "data": {
      "application/vnd.jupyter.widget-view+json": {
       "model_id": "7efc3dcb50d64b3d9432cb3633dcc655",
       "version_major": 2,
       "version_minor": 0
      },
      "text/plain": [
       "  0%|          | 0/100 [00:00<?, ?it/s]"
      ]
     },
     "metadata": {},
     "output_type": "display_data"
    },
    {
     "name": "stderr",
     "output_type": "stream",
     "text": [
      "100%|██████████| 1/1 [00:00<00:00,  1.02it/s]\n"
     ]
    },
    {
     "name": "stdout",
     "output_type": "stream",
     "text": [
      "params = {'factors': 150, 'learning_rate': 0.005, 'regularization': 0.01, 'use_gpu': False}\n",
      "ndcg = 0.020959\n"
     ]
    },
    {
     "data": {
      "application/vnd.jupyter.widget-view+json": {
       "model_id": "6dfe11351cf748c5b3ea4259e3080eca",
       "version_major": 2,
       "version_minor": 0
      },
      "text/plain": [
       "  0%|          | 0/100 [00:00<?, ?it/s]"
      ]
     },
     "metadata": {},
     "output_type": "display_data"
    },
    {
     "name": "stderr",
     "output_type": "stream",
     "text": [
      "100%|██████████| 1/1 [00:00<00:00,  1.03it/s]\n"
     ]
    },
    {
     "name": "stdout",
     "output_type": "stream",
     "text": [
      "params = {'factors': 200, 'learning_rate': 0.1, 'regularization': 0.05, 'use_gpu': False}\n",
      "ndcg = 0.011073\n"
     ]
    },
    {
     "data": {
      "application/vnd.jupyter.widget-view+json": {
       "model_id": "800bf2af77b949329310c6675a9487ae",
       "version_major": 2,
       "version_minor": 0
      },
      "text/plain": [
       "  0%|          | 0/100 [00:00<?, ?it/s]"
      ]
     },
     "metadata": {},
     "output_type": "display_data"
    },
    {
     "name": "stderr",
     "output_type": "stream",
     "text": [
      "100%|██████████| 1/1 [00:01<00:00,  1.02s/it]\n"
     ]
    },
    {
     "name": "stdout",
     "output_type": "stream",
     "text": [
      "params = {'factors': 200, 'learning_rate': 0.1, 'regularization': 0.01, 'use_gpu': False}\n",
      "ndcg = 0.018092\n"
     ]
    },
    {
     "data": {
      "application/vnd.jupyter.widget-view+json": {
       "model_id": "d2defec4f6004d4a8244c953b6a4dbeb",
       "version_major": 2,
       "version_minor": 0
      },
      "text/plain": [
       "  0%|          | 0/100 [00:00<?, ?it/s]"
      ]
     },
     "metadata": {},
     "output_type": "display_data"
    },
    {
     "name": "stderr",
     "output_type": "stream",
     "text": [
      "100%|██████████| 1/1 [00:00<00:00,  1.02it/s]\n"
     ]
    },
    {
     "name": "stdout",
     "output_type": "stream",
     "text": [
      "params = {'factors': 200, 'learning_rate': 0.05, 'regularization': 0.05, 'use_gpu': False}\n",
      "ndcg = 0.011677\n"
     ]
    },
    {
     "data": {
      "application/vnd.jupyter.widget-view+json": {
       "model_id": "8f8494a656fe4aeb94986356352e8b46",
       "version_major": 2,
       "version_minor": 0
      },
      "text/plain": [
       "  0%|          | 0/100 [00:00<?, ?it/s]"
      ]
     },
     "metadata": {},
     "output_type": "display_data"
    },
    {
     "name": "stderr",
     "output_type": "stream",
     "text": [
      "100%|██████████| 1/1 [00:00<00:00,  1.03it/s]\n"
     ]
    },
    {
     "name": "stdout",
     "output_type": "stream",
     "text": [
      "params = {'factors': 200, 'learning_rate': 0.05, 'regularization': 0.01, 'use_gpu': False}\n",
      "ndcg = 0.01937\n"
     ]
    },
    {
     "data": {
      "application/vnd.jupyter.widget-view+json": {
       "model_id": "2acc32c8fc5c4ebf9640f73bf67eb217",
       "version_major": 2,
       "version_minor": 0
      },
      "text/plain": [
       "  0%|          | 0/100 [00:00<?, ?it/s]"
      ]
     },
     "metadata": {},
     "output_type": "display_data"
    },
    {
     "name": "stderr",
     "output_type": "stream",
     "text": [
      "100%|██████████| 1/1 [00:01<00:00,  1.03s/it]\n"
     ]
    },
    {
     "name": "stdout",
     "output_type": "stream",
     "text": [
      "params = {'factors': 200, 'learning_rate': 0.01, 'regularization': 0.05, 'use_gpu': False}\n",
      "ndcg = 0.012918\n"
     ]
    },
    {
     "data": {
      "application/vnd.jupyter.widget-view+json": {
       "model_id": "71e8e75e1df54e958a23839b4ecf3b5d",
       "version_major": 2,
       "version_minor": 0
      },
      "text/plain": [
       "  0%|          | 0/100 [00:00<?, ?it/s]"
      ]
     },
     "metadata": {},
     "output_type": "display_data"
    },
    {
     "name": "stderr",
     "output_type": "stream",
     "text": [
      "100%|██████████| 1/1 [00:00<00:00,  1.06it/s]\n"
     ]
    },
    {
     "name": "stdout",
     "output_type": "stream",
     "text": [
      "params = {'factors': 200, 'learning_rate': 0.01, 'regularization': 0.01, 'use_gpu': False}\n",
      "ndcg = 0.020704\n"
     ]
    },
    {
     "data": {
      "application/vnd.jupyter.widget-view+json": {
       "model_id": "d10ebfbc9a6d4a538efa8537a4021d95",
       "version_major": 2,
       "version_minor": 0
      },
      "text/plain": [
       "  0%|          | 0/100 [00:00<?, ?it/s]"
      ]
     },
     "metadata": {},
     "output_type": "display_data"
    },
    {
     "name": "stderr",
     "output_type": "stream",
     "text": [
      "100%|██████████| 1/1 [00:01<00:00,  1.04s/it]\n"
     ]
    },
    {
     "name": "stdout",
     "output_type": "stream",
     "text": [
      "params = {'factors': 200, 'learning_rate': 0.005, 'regularization': 0.05, 'use_gpu': False}\n",
      "ndcg = 0.014666\n"
     ]
    },
    {
     "data": {
      "application/vnd.jupyter.widget-view+json": {
       "model_id": "aab62b02417c48f3b94ad9a1d3d5bc14",
       "version_major": 2,
       "version_minor": 0
      },
      "text/plain": [
       "  0%|          | 0/100 [00:00<?, ?it/s]"
      ]
     },
     "metadata": {},
     "output_type": "display_data"
    },
    {
     "name": "stderr",
     "output_type": "stream",
     "text": [
      "100%|██████████| 1/1 [00:00<00:00,  1.03it/s]\n"
     ]
    },
    {
     "name": "stdout",
     "output_type": "stream",
     "text": [
      "params = {'factors': 200, 'learning_rate': 0.005, 'regularization': 0.01, 'use_gpu': False}\n",
      "ndcg = 0.021003\n"
     ]
    },
    {
     "data": {
      "application/vnd.jupyter.widget-view+json": {
       "model_id": "99f34759800a470f9e6d48348eacccc3",
       "version_major": 2,
       "version_minor": 0
      },
      "text/plain": [
       "  0%|          | 0/100 [00:00<?, ?it/s]"
      ]
     },
     "metadata": {},
     "output_type": "display_data"
    },
    {
     "name": "stderr",
     "output_type": "stream",
     "text": [
      "100%|██████████| 1/1 [00:01<00:00,  1.00s/it]\n"
     ]
    },
    {
     "name": "stdout",
     "output_type": "stream",
     "text": [
      "params = {'factors': 250, 'learning_rate': 0.1, 'regularization': 0.05, 'use_gpu': False}\n",
      "ndcg = 0.010001\n"
     ]
    },
    {
     "data": {
      "application/vnd.jupyter.widget-view+json": {
       "model_id": "154d06ba9e3b4c47ae2597f99b88a0c9",
       "version_major": 2,
       "version_minor": 0
      },
      "text/plain": [
       "  0%|          | 0/100 [00:00<?, ?it/s]"
      ]
     },
     "metadata": {},
     "output_type": "display_data"
    },
    {
     "name": "stderr",
     "output_type": "stream",
     "text": [
      "100%|██████████| 1/1 [00:01<00:00,  1.00s/it]\n"
     ]
    },
    {
     "name": "stdout",
     "output_type": "stream",
     "text": [
      "params = {'factors': 250, 'learning_rate': 0.1, 'regularization': 0.01, 'use_gpu': False}\n",
      "ndcg = 0.020138\n"
     ]
    },
    {
     "data": {
      "application/vnd.jupyter.widget-view+json": {
       "model_id": "798690401712478a9fdcc0510d0fa942",
       "version_major": 2,
       "version_minor": 0
      },
      "text/plain": [
       "  0%|          | 0/100 [00:00<?, ?it/s]"
      ]
     },
     "metadata": {},
     "output_type": "display_data"
    },
    {
     "name": "stderr",
     "output_type": "stream",
     "text": [
      "100%|██████████| 1/1 [00:00<00:00,  1.01it/s]\n"
     ]
    },
    {
     "name": "stdout",
     "output_type": "stream",
     "text": [
      "params = {'factors': 250, 'learning_rate': 0.05, 'regularization': 0.05, 'use_gpu': False}\n",
      "ndcg = 0.011462\n"
     ]
    },
    {
     "data": {
      "application/vnd.jupyter.widget-view+json": {
       "model_id": "d31da139f5df4aefb2fbcb3462dff96f",
       "version_major": 2,
       "version_minor": 0
      },
      "text/plain": [
       "  0%|          | 0/100 [00:00<?, ?it/s]"
      ]
     },
     "metadata": {},
     "output_type": "display_data"
    },
    {
     "name": "stderr",
     "output_type": "stream",
     "text": [
      "100%|██████████| 1/1 [00:00<00:00,  1.02it/s]\n"
     ]
    },
    {
     "name": "stdout",
     "output_type": "stream",
     "text": [
      "params = {'factors': 250, 'learning_rate': 0.05, 'regularization': 0.01, 'use_gpu': False}\n",
      "ndcg = 0.01943\n"
     ]
    },
    {
     "data": {
      "application/vnd.jupyter.widget-view+json": {
       "model_id": "62615e61a61b4a10b8338207b4746a63",
       "version_major": 2,
       "version_minor": 0
      },
      "text/plain": [
       "  0%|          | 0/100 [00:00<?, ?it/s]"
      ]
     },
     "metadata": {},
     "output_type": "display_data"
    },
    {
     "name": "stderr",
     "output_type": "stream",
     "text": [
      "100%|██████████| 1/1 [00:01<00:00,  1.01s/it]\n"
     ]
    },
    {
     "name": "stdout",
     "output_type": "stream",
     "text": [
      "params = {'factors': 250, 'learning_rate': 0.01, 'regularization': 0.05, 'use_gpu': False}\n",
      "ndcg = 0.012339\n"
     ]
    },
    {
     "data": {
      "application/vnd.jupyter.widget-view+json": {
       "model_id": "89120eaaef9d4425adf29ce1961c151a",
       "version_major": 2,
       "version_minor": 0
      },
      "text/plain": [
       "  0%|          | 0/100 [00:00<?, ?it/s]"
      ]
     },
     "metadata": {},
     "output_type": "display_data"
    },
    {
     "name": "stderr",
     "output_type": "stream",
     "text": [
      "100%|██████████| 1/1 [00:00<00:00,  1.04it/s]\n"
     ]
    },
    {
     "name": "stdout",
     "output_type": "stream",
     "text": [
      "params = {'factors': 250, 'learning_rate': 0.01, 'regularization': 0.01, 'use_gpu': False}\n",
      "ndcg = 0.019709\n"
     ]
    },
    {
     "data": {
      "application/vnd.jupyter.widget-view+json": {
       "model_id": "9881ba04d7cf49308d7f4285f8b1238f",
       "version_major": 2,
       "version_minor": 0
      },
      "text/plain": [
       "  0%|          | 0/100 [00:00<?, ?it/s]"
      ]
     },
     "metadata": {},
     "output_type": "display_data"
    },
    {
     "name": "stderr",
     "output_type": "stream",
     "text": [
      "100%|██████████| 1/1 [00:01<00:00,  1.02s/it]\n"
     ]
    },
    {
     "name": "stdout",
     "output_type": "stream",
     "text": [
      "params = {'factors': 250, 'learning_rate': 0.005, 'regularization': 0.05, 'use_gpu': False}\n",
      "ndcg = 0.013268\n"
     ]
    },
    {
     "data": {
      "application/vnd.jupyter.widget-view+json": {
       "model_id": "d706c0ad692c44f89c398c60bd4958ff",
       "version_major": 2,
       "version_minor": 0
      },
      "text/plain": [
       "  0%|          | 0/100 [00:00<?, ?it/s]"
      ]
     },
     "metadata": {},
     "output_type": "display_data"
    },
    {
     "name": "stderr",
     "output_type": "stream",
     "text": [
      "100%|██████████| 1/1 [00:00<00:00,  1.02it/s]\n"
     ]
    },
    {
     "name": "stdout",
     "output_type": "stream",
     "text": [
      "params = {'factors': 250, 'learning_rate': 0.005, 'regularization': 0.01, 'use_gpu': False}\n",
      "ndcg = 0.021836\n"
     ]
    },
    {
     "data": {
      "application/vnd.jupyter.widget-view+json": {
       "model_id": "972f523156534d2ca261f3d1f49d2ca2",
       "version_major": 2,
       "version_minor": 0
      },
      "text/plain": [
       "  0%|          | 0/100 [00:00<?, ?it/s]"
      ]
     },
     "metadata": {},
     "output_type": "display_data"
    },
    {
     "name": "stderr",
     "output_type": "stream",
     "text": [
      "100%|██████████| 1/1 [00:01<00:00,  1.00s/it]\n"
     ]
    },
    {
     "name": "stdout",
     "output_type": "stream",
     "text": [
      "params = {'factors': 300, 'learning_rate': 0.1, 'regularization': 0.05, 'use_gpu': False}\n",
      "ndcg = 0.009411\n"
     ]
    },
    {
     "data": {
      "application/vnd.jupyter.widget-view+json": {
       "model_id": "230328c58afb487cb7efd10b37e12ce1",
       "version_major": 2,
       "version_minor": 0
      },
      "text/plain": [
       "  0%|          | 0/100 [00:00<?, ?it/s]"
      ]
     },
     "metadata": {},
     "output_type": "display_data"
    },
    {
     "name": "stderr",
     "output_type": "stream",
     "text": [
      "100%|██████████| 1/1 [00:01<00:00,  1.00s/it]\n"
     ]
    },
    {
     "name": "stdout",
     "output_type": "stream",
     "text": [
      "params = {'factors': 300, 'learning_rate': 0.1, 'regularization': 0.01, 'use_gpu': False}\n",
      "ndcg = 0.019495\n"
     ]
    },
    {
     "data": {
      "application/vnd.jupyter.widget-view+json": {
       "model_id": "fd3c0f2c15e841569e74fd74105ccab4",
       "version_major": 2,
       "version_minor": 0
      },
      "text/plain": [
       "  0%|          | 0/100 [00:00<?, ?it/s]"
      ]
     },
     "metadata": {},
     "output_type": "display_data"
    },
    {
     "name": "stderr",
     "output_type": "stream",
     "text": [
      "100%|██████████| 1/1 [00:00<00:00,  1.03it/s]\n"
     ]
    },
    {
     "name": "stdout",
     "output_type": "stream",
     "text": [
      "params = {'factors': 300, 'learning_rate': 0.05, 'regularization': 0.05, 'use_gpu': False}\n",
      "ndcg = 0.011365\n"
     ]
    },
    {
     "data": {
      "application/vnd.jupyter.widget-view+json": {
       "model_id": "bc29a9d5aea4484297716387fae116f8",
       "version_major": 2,
       "version_minor": 0
      },
      "text/plain": [
       "  0%|          | 0/100 [00:00<?, ?it/s]"
      ]
     },
     "metadata": {},
     "output_type": "display_data"
    },
    {
     "name": "stderr",
     "output_type": "stream",
     "text": [
      "100%|██████████| 1/1 [00:00<00:00,  1.03it/s]\n"
     ]
    },
    {
     "name": "stdout",
     "output_type": "stream",
     "text": [
      "params = {'factors': 300, 'learning_rate': 0.05, 'regularization': 0.01, 'use_gpu': False}\n",
      "ndcg = 0.019729\n"
     ]
    },
    {
     "data": {
      "application/vnd.jupyter.widget-view+json": {
       "model_id": "6bfad4ab125848cb963311e2ebe8f0f5",
       "version_major": 2,
       "version_minor": 0
      },
      "text/plain": [
       "  0%|          | 0/100 [00:00<?, ?it/s]"
      ]
     },
     "metadata": {},
     "output_type": "display_data"
    },
    {
     "name": "stderr",
     "output_type": "stream",
     "text": [
      "100%|██████████| 1/1 [00:01<00:00,  1.02s/it]\n"
     ]
    },
    {
     "name": "stdout",
     "output_type": "stream",
     "text": [
      "params = {'factors': 300, 'learning_rate': 0.01, 'regularization': 0.05, 'use_gpu': False}\n",
      "ndcg = 0.013278\n"
     ]
    },
    {
     "data": {
      "application/vnd.jupyter.widget-view+json": {
       "model_id": "91e985086d804a6d9f4875ab2a6f228a",
       "version_major": 2,
       "version_minor": 0
      },
      "text/plain": [
       "  0%|          | 0/100 [00:00<?, ?it/s]"
      ]
     },
     "metadata": {},
     "output_type": "display_data"
    },
    {
     "name": "stderr",
     "output_type": "stream",
     "text": [
      "100%|██████████| 1/1 [00:00<00:00,  1.04it/s]\n"
     ]
    },
    {
     "name": "stdout",
     "output_type": "stream",
     "text": [
      "params = {'factors': 300, 'learning_rate': 0.01, 'regularization': 0.01, 'use_gpu': False}\n",
      "ndcg = 0.019995\n"
     ]
    },
    {
     "data": {
      "application/vnd.jupyter.widget-view+json": {
       "model_id": "53ff9efb647f43a9a24e46b6afe56b9b",
       "version_major": 2,
       "version_minor": 0
      },
      "text/plain": [
       "  0%|          | 0/100 [00:00<?, ?it/s]"
      ]
     },
     "metadata": {},
     "output_type": "display_data"
    },
    {
     "name": "stderr",
     "output_type": "stream",
     "text": [
      "100%|██████████| 1/1 [00:01<00:00,  1.04s/it]\n"
     ]
    },
    {
     "name": "stdout",
     "output_type": "stream",
     "text": [
      "params = {'factors': 300, 'learning_rate': 0.005, 'regularization': 0.05, 'use_gpu': False}\n",
      "ndcg = 0.013211\n"
     ]
    },
    {
     "data": {
      "application/vnd.jupyter.widget-view+json": {
       "model_id": "621f9935e8b64534a14b6a1cc19ef0a7",
       "version_major": 2,
       "version_minor": 0
      },
      "text/plain": [
       "  0%|          | 0/100 [00:00<?, ?it/s]"
      ]
     },
     "metadata": {},
     "output_type": "display_data"
    },
    {
     "name": "stderr",
     "output_type": "stream",
     "text": [
      "100%|██████████| 1/1 [00:00<00:00,  1.03it/s]\n"
     ]
    },
    {
     "name": "stdout",
     "output_type": "stream",
     "text": [
      "params = {'factors': 300, 'learning_rate': 0.005, 'regularization': 0.01, 'use_gpu': False}\n",
      "ndcg = 0.021443\n"
     ]
    },
    {
     "data": {
      "application/vnd.jupyter.widget-view+json": {
       "model_id": "51635db396ee4371abb3aba79e6b0a51",
       "version_major": 2,
       "version_minor": 0
      },
      "text/plain": [
       "  0%|          | 0/100 [00:00<?, ?it/s]"
      ]
     },
     "metadata": {},
     "output_type": "display_data"
    },
    {
     "name": "stderr",
     "output_type": "stream",
     "text": [
      "100%|██████████| 1/1 [00:01<00:00,  1.00s/it]\n"
     ]
    },
    {
     "name": "stdout",
     "output_type": "stream",
     "text": [
      "params = {'factors': 350, 'learning_rate': 0.1, 'regularization': 0.05, 'use_gpu': False}\n",
      "ndcg = 0.009538\n"
     ]
    },
    {
     "data": {
      "application/vnd.jupyter.widget-view+json": {
       "model_id": "a91061ca6ed84d53b7f334e8f7812c61",
       "version_major": 2,
       "version_minor": 0
      },
      "text/plain": [
       "  0%|          | 0/100 [00:00<?, ?it/s]"
      ]
     },
     "metadata": {},
     "output_type": "display_data"
    },
    {
     "name": "stderr",
     "output_type": "stream",
     "text": [
      "100%|██████████| 1/1 [00:00<00:00,  1.01it/s]\n"
     ]
    },
    {
     "name": "stdout",
     "output_type": "stream",
     "text": [
      "params = {'factors': 350, 'learning_rate': 0.1, 'regularization': 0.01, 'use_gpu': False}\n",
      "ndcg = 0.019604\n"
     ]
    },
    {
     "data": {
      "application/vnd.jupyter.widget-view+json": {
       "model_id": "0cfdd2e453be4d20aba7e2f8488d0bd2",
       "version_major": 2,
       "version_minor": 0
      },
      "text/plain": [
       "  0%|          | 0/100 [00:00<?, ?it/s]"
      ]
     },
     "metadata": {},
     "output_type": "display_data"
    },
    {
     "name": "stderr",
     "output_type": "stream",
     "text": [
      "100%|██████████| 1/1 [00:00<00:00,  1.01it/s]\n"
     ]
    },
    {
     "name": "stdout",
     "output_type": "stream",
     "text": [
      "params = {'factors': 350, 'learning_rate': 0.05, 'regularization': 0.05, 'use_gpu': False}\n",
      "ndcg = 0.011357\n"
     ]
    },
    {
     "data": {
      "application/vnd.jupyter.widget-view+json": {
       "model_id": "085ba01cb9174bfe9623b591d54ef12a",
       "version_major": 2,
       "version_minor": 0
      },
      "text/plain": [
       "  0%|          | 0/100 [00:00<?, ?it/s]"
      ]
     },
     "metadata": {},
     "output_type": "display_data"
    },
    {
     "name": "stderr",
     "output_type": "stream",
     "text": [
      "100%|██████████| 1/1 [00:00<00:00,  1.04it/s]\n"
     ]
    },
    {
     "name": "stdout",
     "output_type": "stream",
     "text": [
      "params = {'factors': 350, 'learning_rate': 0.05, 'regularization': 0.01, 'use_gpu': False}\n",
      "ndcg = 0.020234\n"
     ]
    },
    {
     "data": {
      "application/vnd.jupyter.widget-view+json": {
       "model_id": "b8bfa8207ff04b5384438267264fea28",
       "version_major": 2,
       "version_minor": 0
      },
      "text/plain": [
       "  0%|          | 0/100 [00:00<?, ?it/s]"
      ]
     },
     "metadata": {},
     "output_type": "display_data"
    },
    {
     "name": "stderr",
     "output_type": "stream",
     "text": [
      "100%|██████████| 1/1 [00:01<00:00,  1.02s/it]\n"
     ]
    },
    {
     "name": "stdout",
     "output_type": "stream",
     "text": [
      "params = {'factors': 350, 'learning_rate': 0.01, 'regularization': 0.05, 'use_gpu': False}\n",
      "ndcg = 0.012397\n"
     ]
    },
    {
     "data": {
      "application/vnd.jupyter.widget-view+json": {
       "model_id": "beb3587d8aac430fb41336fae43aa45a",
       "version_major": 2,
       "version_minor": 0
      },
      "text/plain": [
       "  0%|          | 0/100 [00:00<?, ?it/s]"
      ]
     },
     "metadata": {},
     "output_type": "display_data"
    },
    {
     "name": "stderr",
     "output_type": "stream",
     "text": [
      "100%|██████████| 1/1 [00:00<00:00,  1.04it/s]\n"
     ]
    },
    {
     "name": "stdout",
     "output_type": "stream",
     "text": [
      "params = {'factors': 350, 'learning_rate': 0.01, 'regularization': 0.01, 'use_gpu': False}\n",
      "ndcg = 0.019503\n"
     ]
    },
    {
     "data": {
      "application/vnd.jupyter.widget-view+json": {
       "model_id": "10c1b55a62bb4b138331ca4631eadfe0",
       "version_major": 2,
       "version_minor": 0
      },
      "text/plain": [
       "  0%|          | 0/100 [00:00<?, ?it/s]"
      ]
     },
     "metadata": {},
     "output_type": "display_data"
    },
    {
     "name": "stderr",
     "output_type": "stream",
     "text": [
      "100%|██████████| 1/1 [00:01<00:00,  1.02s/it]\n"
     ]
    },
    {
     "name": "stdout",
     "output_type": "stream",
     "text": [
      "params = {'factors': 350, 'learning_rate': 0.005, 'regularization': 0.05, 'use_gpu': False}\n",
      "ndcg = 0.013218\n"
     ]
    },
    {
     "data": {
      "application/vnd.jupyter.widget-view+json": {
       "model_id": "a7aae307c41e46fcb102501e5f841d9d",
       "version_major": 2,
       "version_minor": 0
      },
      "text/plain": [
       "  0%|          | 0/100 [00:00<?, ?it/s]"
      ]
     },
     "metadata": {},
     "output_type": "display_data"
    },
    {
     "name": "stderr",
     "output_type": "stream",
     "text": [
      "100%|██████████| 1/1 [00:00<00:00,  1.01it/s]\n"
     ]
    },
    {
     "name": "stdout",
     "output_type": "stream",
     "text": [
      "params = {'factors': 350, 'learning_rate': 0.005, 'regularization': 0.01, 'use_gpu': False}\n",
      "ndcg = 0.021914\n"
     ]
    },
    {
     "data": {
      "application/vnd.jupyter.widget-view+json": {
       "model_id": "97101734ea1045a294dd2cabffcba56d",
       "version_major": 2,
       "version_minor": 0
      },
      "text/plain": [
       "  0%|          | 0/100 [00:00<?, ?it/s]"
      ]
     },
     "metadata": {},
     "output_type": "display_data"
    },
    {
     "name": "stderr",
     "output_type": "stream",
     "text": [
      "100%|██████████| 1/1 [00:00<00:00,  1.02it/s]\n"
     ]
    },
    {
     "name": "stdout",
     "output_type": "stream",
     "text": [
      "params = {'factors': 400, 'learning_rate': 0.1, 'regularization': 0.05, 'use_gpu': False}\n",
      "ndcg = 0.010449\n"
     ]
    },
    {
     "data": {
      "application/vnd.jupyter.widget-view+json": {
       "model_id": "798fecea0b4643fc887a3257b7b31155",
       "version_major": 2,
       "version_minor": 0
      },
      "text/plain": [
       "  0%|          | 0/100 [00:00<?, ?it/s]"
      ]
     },
     "metadata": {},
     "output_type": "display_data"
    },
    {
     "name": "stderr",
     "output_type": "stream",
     "text": [
      "100%|██████████| 1/1 [00:01<00:00,  1.00s/it]\n"
     ]
    },
    {
     "name": "stdout",
     "output_type": "stream",
     "text": [
      "params = {'factors': 400, 'learning_rate': 0.1, 'regularization': 0.01, 'use_gpu': False}\n",
      "ndcg = 0.019743\n"
     ]
    },
    {
     "data": {
      "application/vnd.jupyter.widget-view+json": {
       "model_id": "c0dbde3558ad486f8f0638f20a569660",
       "version_major": 2,
       "version_minor": 0
      },
      "text/plain": [
       "  0%|          | 0/100 [00:00<?, ?it/s]"
      ]
     },
     "metadata": {},
     "output_type": "display_data"
    },
    {
     "name": "stderr",
     "output_type": "stream",
     "text": [
      "100%|██████████| 1/1 [00:00<00:00,  1.02it/s]\n"
     ]
    },
    {
     "name": "stdout",
     "output_type": "stream",
     "text": [
      "params = {'factors': 400, 'learning_rate': 0.05, 'regularization': 0.05, 'use_gpu': False}\n",
      "ndcg = 0.011287\n"
     ]
    },
    {
     "data": {
      "application/vnd.jupyter.widget-view+json": {
       "model_id": "d661625f50464f538fb1609df26012ab",
       "version_major": 2,
       "version_minor": 0
      },
      "text/plain": [
       "  0%|          | 0/100 [00:00<?, ?it/s]"
      ]
     },
     "metadata": {},
     "output_type": "display_data"
    },
    {
     "name": "stderr",
     "output_type": "stream",
     "text": [
      "100%|██████████| 1/1 [00:00<00:00,  1.04it/s]\n"
     ]
    },
    {
     "name": "stdout",
     "output_type": "stream",
     "text": [
      "params = {'factors': 400, 'learning_rate': 0.05, 'regularization': 0.01, 'use_gpu': False}\n",
      "ndcg = 0.019\n"
     ]
    },
    {
     "data": {
      "application/vnd.jupyter.widget-view+json": {
       "model_id": "1c47afbf38ad47c3a9a5448bbb2fab7c",
       "version_major": 2,
       "version_minor": 0
      },
      "text/plain": [
       "  0%|          | 0/100 [00:00<?, ?it/s]"
      ]
     },
     "metadata": {},
     "output_type": "display_data"
    },
    {
     "name": "stderr",
     "output_type": "stream",
     "text": [
      "100%|██████████| 1/1 [00:01<00:00,  1.01s/it]\n"
     ]
    },
    {
     "name": "stdout",
     "output_type": "stream",
     "text": [
      "params = {'factors': 400, 'learning_rate': 0.01, 'regularization': 0.05, 'use_gpu': False}\n",
      "ndcg = 0.013705\n"
     ]
    },
    {
     "data": {
      "application/vnd.jupyter.widget-view+json": {
       "model_id": "81872a145b044b80a67fb5b0ae2f6890",
       "version_major": 2,
       "version_minor": 0
      },
      "text/plain": [
       "  0%|          | 0/100 [00:00<?, ?it/s]"
      ]
     },
     "metadata": {},
     "output_type": "display_data"
    },
    {
     "name": "stderr",
     "output_type": "stream",
     "text": [
      "100%|██████████| 1/1 [00:00<00:00,  1.05it/s]\n"
     ]
    },
    {
     "name": "stdout",
     "output_type": "stream",
     "text": [
      "params = {'factors': 400, 'learning_rate': 0.01, 'regularization': 0.01, 'use_gpu': False}\n",
      "ndcg = 0.019723\n"
     ]
    },
    {
     "data": {
      "application/vnd.jupyter.widget-view+json": {
       "model_id": "448b70d95df94ae38d63da2a9b05f0fd",
       "version_major": 2,
       "version_minor": 0
      },
      "text/plain": [
       "  0%|          | 0/100 [00:00<?, ?it/s]"
      ]
     },
     "metadata": {},
     "output_type": "display_data"
    },
    {
     "name": "stderr",
     "output_type": "stream",
     "text": [
      "100%|██████████| 1/1 [00:01<00:00,  1.04s/it]\n"
     ]
    },
    {
     "name": "stdout",
     "output_type": "stream",
     "text": [
      "params = {'factors': 400, 'learning_rate': 0.005, 'regularization': 0.05, 'use_gpu': False}\n",
      "ndcg = 0.012614\n"
     ]
    },
    {
     "data": {
      "application/vnd.jupyter.widget-view+json": {
       "model_id": "a7e15694ea7740ce9b3479a3b301e8f5",
       "version_major": 2,
       "version_minor": 0
      },
      "text/plain": [
       "  0%|          | 0/100 [00:00<?, ?it/s]"
      ]
     },
     "metadata": {},
     "output_type": "display_data"
    },
    {
     "name": "stderr",
     "output_type": "stream",
     "text": [
      "100%|██████████| 1/1 [00:00<00:00,  1.02it/s]\n"
     ]
    },
    {
     "name": "stdout",
     "output_type": "stream",
     "text": [
      "params = {'factors': 400, 'learning_rate': 0.005, 'regularization': 0.01, 'use_gpu': False}\n",
      "ndcg = 0.021059\n"
     ]
    },
    {
     "data": {
      "application/vnd.jupyter.widget-view+json": {
       "model_id": "9c2d588685c0418497e3e365cea215bd",
       "version_major": 2,
       "version_minor": 0
      },
      "text/plain": [
       "  0%|          | 0/100 [00:00<?, ?it/s]"
      ]
     },
     "metadata": {},
     "output_type": "display_data"
    },
    {
     "name": "stderr",
     "output_type": "stream",
     "text": [
      "100%|██████████| 1/1 [00:01<00:00,  1.02s/it]\n"
     ]
    },
    {
     "name": "stdout",
     "output_type": "stream",
     "text": [
      "params = {'factors': 450, 'learning_rate': 0.1, 'regularization': 0.05, 'use_gpu': False}\n",
      "ndcg = 0.010353\n"
     ]
    },
    {
     "data": {
      "application/vnd.jupyter.widget-view+json": {
       "model_id": "8c66356f76c244cf968c0a03fc55acfe",
       "version_major": 2,
       "version_minor": 0
      },
      "text/plain": [
       "  0%|          | 0/100 [00:00<?, ?it/s]"
      ]
     },
     "metadata": {},
     "output_type": "display_data"
    },
    {
     "name": "stderr",
     "output_type": "stream",
     "text": [
      "100%|██████████| 1/1 [00:00<00:00,  1.02it/s]\n"
     ]
    },
    {
     "name": "stdout",
     "output_type": "stream",
     "text": [
      "params = {'factors': 450, 'learning_rate': 0.1, 'regularization': 0.01, 'use_gpu': False}\n",
      "ndcg = 0.01923\n"
     ]
    },
    {
     "data": {
      "application/vnd.jupyter.widget-view+json": {
       "model_id": "bb562373aa214a48974cc9ee4717cf70",
       "version_major": 2,
       "version_minor": 0
      },
      "text/plain": [
       "  0%|          | 0/100 [00:00<?, ?it/s]"
      ]
     },
     "metadata": {},
     "output_type": "display_data"
    },
    {
     "name": "stderr",
     "output_type": "stream",
     "text": [
      "100%|██████████| 1/1 [00:00<00:00,  1.02it/s]\n"
     ]
    },
    {
     "name": "stdout",
     "output_type": "stream",
     "text": [
      "params = {'factors': 450, 'learning_rate': 0.05, 'regularization': 0.05, 'use_gpu': False}\n",
      "ndcg = 0.011295\n"
     ]
    },
    {
     "data": {
      "application/vnd.jupyter.widget-view+json": {
       "model_id": "b341ca0fdc32426f862518aaf48b715f",
       "version_major": 2,
       "version_minor": 0
      },
      "text/plain": [
       "  0%|          | 0/100 [00:00<?, ?it/s]"
      ]
     },
     "metadata": {},
     "output_type": "display_data"
    },
    {
     "name": "stderr",
     "output_type": "stream",
     "text": [
      "100%|██████████| 1/1 [00:00<00:00,  1.03it/s]\n"
     ]
    },
    {
     "name": "stdout",
     "output_type": "stream",
     "text": [
      "params = {'factors': 450, 'learning_rate': 0.05, 'regularization': 0.01, 'use_gpu': False}\n",
      "ndcg = 0.017438\n"
     ]
    },
    {
     "data": {
      "application/vnd.jupyter.widget-view+json": {
       "model_id": "072db5399c84439a9c31e6bf5eec4f21",
       "version_major": 2,
       "version_minor": 0
      },
      "text/plain": [
       "  0%|          | 0/100 [00:00<?, ?it/s]"
      ]
     },
     "metadata": {},
     "output_type": "display_data"
    },
    {
     "name": "stderr",
     "output_type": "stream",
     "text": [
      "100%|██████████| 1/1 [00:01<00:00,  1.01s/it]\n"
     ]
    },
    {
     "name": "stdout",
     "output_type": "stream",
     "text": [
      "params = {'factors': 450, 'learning_rate': 0.01, 'regularization': 0.05, 'use_gpu': False}\n",
      "ndcg = 0.013752\n"
     ]
    },
    {
     "data": {
      "application/vnd.jupyter.widget-view+json": {
       "model_id": "3f5e581b51f9490aa841c73b19a06f70",
       "version_major": 2,
       "version_minor": 0
      },
      "text/plain": [
       "  0%|          | 0/100 [00:00<?, ?it/s]"
      ]
     },
     "metadata": {},
     "output_type": "display_data"
    },
    {
     "name": "stderr",
     "output_type": "stream",
     "text": [
      "100%|██████████| 1/1 [00:00<00:00,  1.03it/s]\n"
     ]
    },
    {
     "name": "stdout",
     "output_type": "stream",
     "text": [
      "params = {'factors': 450, 'learning_rate': 0.01, 'regularization': 0.01, 'use_gpu': False}\n",
      "ndcg = 0.020763\n"
     ]
    },
    {
     "data": {
      "application/vnd.jupyter.widget-view+json": {
       "model_id": "773aad7021cf43c9b3f6cff1fa49edb0",
       "version_major": 2,
       "version_minor": 0
      },
      "text/plain": [
       "  0%|          | 0/100 [00:00<?, ?it/s]"
      ]
     },
     "metadata": {},
     "output_type": "display_data"
    },
    {
     "name": "stderr",
     "output_type": "stream",
     "text": [
      "100%|██████████| 1/1 [00:01<00:00,  1.03s/it]\n"
     ]
    },
    {
     "name": "stdout",
     "output_type": "stream",
     "text": [
      "params = {'factors': 450, 'learning_rate': 0.005, 'regularization': 0.05, 'use_gpu': False}\n",
      "ndcg = 0.013112\n"
     ]
    },
    {
     "data": {
      "application/vnd.jupyter.widget-view+json": {
       "model_id": "d02261ba86b24798927537bd2e7c012a",
       "version_major": 2,
       "version_minor": 0
      },
      "text/plain": [
       "  0%|          | 0/100 [00:00<?, ?it/s]"
      ]
     },
     "metadata": {},
     "output_type": "display_data"
    },
    {
     "name": "stderr",
     "output_type": "stream",
     "text": [
      "100%|██████████| 1/1 [00:00<00:00,  1.03it/s]\n"
     ]
    },
    {
     "name": "stdout",
     "output_type": "stream",
     "text": [
      "params = {'factors': 450, 'learning_rate': 0.005, 'regularization': 0.01, 'use_gpu': False}\n",
      "ndcg = 0.022142\n"
     ]
    },
    {
     "data": {
      "application/vnd.jupyter.widget-view+json": {
       "model_id": "1b4e82b123e340299114ebf7adbe87ca",
       "version_major": 2,
       "version_minor": 0
      },
      "text/plain": [
       "  0%|          | 0/100 [00:00<?, ?it/s]"
      ]
     },
     "metadata": {},
     "output_type": "display_data"
    },
    {
     "name": "stderr",
     "output_type": "stream",
     "text": [
      "100%|██████████| 1/1 [00:00<00:00,  1.01it/s]\n"
     ]
    },
    {
     "name": "stdout",
     "output_type": "stream",
     "text": [
      "params = {'factors': 500, 'learning_rate': 0.1, 'regularization': 0.05, 'use_gpu': False}\n",
      "ndcg = 0.010959\n"
     ]
    },
    {
     "data": {
      "application/vnd.jupyter.widget-view+json": {
       "model_id": "e9abf6f7ea6541ee8a5e6c768ea2ec3b",
       "version_major": 2,
       "version_minor": 0
      },
      "text/plain": [
       "  0%|          | 0/100 [00:00<?, ?it/s]"
      ]
     },
     "metadata": {},
     "output_type": "display_data"
    },
    {
     "name": "stderr",
     "output_type": "stream",
     "text": [
      "100%|██████████| 1/1 [00:01<00:00,  1.02s/it]\n"
     ]
    },
    {
     "name": "stdout",
     "output_type": "stream",
     "text": [
      "params = {'factors': 500, 'learning_rate': 0.1, 'regularization': 0.01, 'use_gpu': False}\n",
      "ndcg = 0.018411\n"
     ]
    },
    {
     "data": {
      "application/vnd.jupyter.widget-view+json": {
       "model_id": "98baee87f6c94c6dba69a4618953f048",
       "version_major": 2,
       "version_minor": 0
      },
      "text/plain": [
       "  0%|          | 0/100 [00:00<?, ?it/s]"
      ]
     },
     "metadata": {},
     "output_type": "display_data"
    },
    {
     "name": "stderr",
     "output_type": "stream",
     "text": [
      "100%|██████████| 1/1 [00:00<00:00,  1.02it/s]\n"
     ]
    },
    {
     "name": "stdout",
     "output_type": "stream",
     "text": [
      "params = {'factors': 500, 'learning_rate': 0.05, 'regularization': 0.05, 'use_gpu': False}\n",
      "ndcg = 0.012192\n"
     ]
    },
    {
     "data": {
      "application/vnd.jupyter.widget-view+json": {
       "model_id": "a3b9a76842244c699250e0a472d5e8b4",
       "version_major": 2,
       "version_minor": 0
      },
      "text/plain": [
       "  0%|          | 0/100 [00:00<?, ?it/s]"
      ]
     },
     "metadata": {},
     "output_type": "display_data"
    },
    {
     "name": "stderr",
     "output_type": "stream",
     "text": [
      "100%|██████████| 1/1 [00:01<00:00,  1.00s/it]\n"
     ]
    },
    {
     "name": "stdout",
     "output_type": "stream",
     "text": [
      "params = {'factors': 500, 'learning_rate': 0.05, 'regularization': 0.01, 'use_gpu': False}\n",
      "ndcg = 0.019516\n"
     ]
    },
    {
     "data": {
      "application/vnd.jupyter.widget-view+json": {
       "model_id": "e2abe1bbe8414c26ac218274a2a34f94",
       "version_major": 2,
       "version_minor": 0
      },
      "text/plain": [
       "  0%|          | 0/100 [00:00<?, ?it/s]"
      ]
     },
     "metadata": {},
     "output_type": "display_data"
    },
    {
     "name": "stderr",
     "output_type": "stream",
     "text": [
      "100%|██████████| 1/1 [00:01<00:00,  1.02s/it]\n"
     ]
    },
    {
     "name": "stdout",
     "output_type": "stream",
     "text": [
      "params = {'factors': 500, 'learning_rate': 0.01, 'regularization': 0.05, 'use_gpu': False}\n",
      "ndcg = 0.013704\n"
     ]
    },
    {
     "data": {
      "application/vnd.jupyter.widget-view+json": {
       "model_id": "f51e4ae4ca5c42cfad35c733a009f7f2",
       "version_major": 2,
       "version_minor": 0
      },
      "text/plain": [
       "  0%|          | 0/100 [00:00<?, ?it/s]"
      ]
     },
     "metadata": {},
     "output_type": "display_data"
    },
    {
     "name": "stderr",
     "output_type": "stream",
     "text": [
      "100%|██████████| 1/1 [00:00<00:00,  1.03it/s]\n"
     ]
    },
    {
     "name": "stdout",
     "output_type": "stream",
     "text": [
      "params = {'factors': 500, 'learning_rate': 0.01, 'regularization': 0.01, 'use_gpu': False}\n",
      "ndcg = 0.019123\n"
     ]
    },
    {
     "data": {
      "application/vnd.jupyter.widget-view+json": {
       "model_id": "32b6b272f51648edbaf6eaabef94dce7",
       "version_major": 2,
       "version_minor": 0
      },
      "text/plain": [
       "  0%|          | 0/100 [00:00<?, ?it/s]"
      ]
     },
     "metadata": {},
     "output_type": "display_data"
    },
    {
     "name": "stderr",
     "output_type": "stream",
     "text": [
      "100%|██████████| 1/1 [00:01<00:00,  1.03s/it]\n"
     ]
    },
    {
     "name": "stdout",
     "output_type": "stream",
     "text": [
      "params = {'factors': 500, 'learning_rate': 0.005, 'regularization': 0.05, 'use_gpu': False}\n",
      "ndcg = 0.012095\n"
     ]
    },
    {
     "data": {
      "application/vnd.jupyter.widget-view+json": {
       "model_id": "f8feeee66acd465d9cdc4a55a1dc5637",
       "version_major": 2,
       "version_minor": 0
      },
      "text/plain": [
       "  0%|          | 0/100 [00:00<?, ?it/s]"
      ]
     },
     "metadata": {},
     "output_type": "display_data"
    },
    {
     "name": "stderr",
     "output_type": "stream",
     "text": [
      "100%|██████████| 1/1 [00:00<00:00,  1.00it/s]\n"
     ]
    },
    {
     "name": "stdout",
     "output_type": "stream",
     "text": [
      "params = {'factors': 500, 'learning_rate': 0.005, 'regularization': 0.01, 'use_gpu': False}\n",
      "ndcg = 0.021968\n"
     ]
    }
   ],
   "source": [
    "best_params, max_ndcg = grid_search(param_list, train_sparse, val_users_history_1, val_1)"
   ]
  },
  {
   "cell_type": "code",
   "execution_count": 99,
   "id": "4c2e1a60-f725-4d2e-a2a7-bc29315ae976",
   "metadata": {},
   "outputs": [
    {
     "data": {
      "text/plain": [
       "({'factors': 100,\n",
       "  'learning_rate': 0.005,\n",
       "  'regularization': 0.01,\n",
       "  'use_gpu': False},\n",
       " 0.022201)"
      ]
     },
     "execution_count": 99,
     "metadata": {},
     "output_type": "execute_result"
    }
   ],
   "source": [
    "best_params, max_ndcg"
   ]
  },
  {
   "cell_type": "code",
   "execution_count": 100,
   "id": "44ccceb8-edf8-4d5a-870b-9eab44b41f53",
   "metadata": {},
   "outputs": [
    {
     "data": {
      "application/vnd.jupyter.widget-view+json": {
       "model_id": "1acdaa8f441a4326bf8f8e01ac9a6748",
       "version_major": 2,
       "version_minor": 0
      },
      "text/plain": [
       "  0%|          | 0/100 [00:00<?, ?it/s]"
      ]
     },
     "metadata": {},
     "output_type": "display_data"
    },
    {
     "name": "stderr",
     "output_type": "stream",
     "text": [
      "100%|██████████| 1/1 [00:01<00:00,  1.11s/it]\n",
      "100%|██████████| 1/1 [00:01<00:00,  1.85s/it]\n"
     ]
    }
   ],
   "source": [
    "bpr = BayesianPersonalizedRanking(**best_params)\n",
    "bpr.fit(train_sparse)\n",
    "scores_val = predict_folding_in(val_users_history_2, bpr.item_factors, item_mapping_)\n",
    "scores_test = predict_folding_in(test_users_history, bpr.item_factors, item_mapping_)\n",
    "\n",
    "preds_val = get_top_k(scores_val, item_mapping_, user_col='test_user_idx') \n",
    "preds_test = get_top_k(scores_test, item_mapping_, user_col='test_user_idx')\n",
    "\n",
    "preds_val = preds_val.merge(val_2, on='test_user_idx', how='inner')\n",
    "preds_test = preds_test.merge(test, on='test_user_idx', how='inner') \n",
    "\n",
    "metrics_df, beta = get_metrics(preds_test, preds_val)"
   ]
  },
  {
   "cell_type": "code",
   "execution_count": 101,
   "id": "2db50d26-4e65-45cd-a3e9-961de5111807",
   "metadata": {},
   "outputs": [
    {
     "data": {
      "text/html": [
       "<div>\n",
       "<style scoped>\n",
       "    .dataframe tbody tr th:only-of-type {\n",
       "        vertical-align: middle;\n",
       "    }\n",
       "\n",
       "    .dataframe tbody tr th {\n",
       "        vertical-align: top;\n",
       "    }\n",
       "\n",
       "    .dataframe thead th {\n",
       "        text-align: right;\n",
       "    }\n",
       "</style>\n",
       "<table border=\"1\" class=\"dataframe\">\n",
       "  <thead>\n",
       "    <tr style=\"text-align: right;\">\n",
       "      <th></th>\n",
       "      <th>type</th>\n",
       "      <th>HR</th>\n",
       "      <th>MRR</th>\n",
       "      <th>nDCG</th>\n",
       "    </tr>\n",
       "  </thead>\n",
       "  <tbody>\n",
       "    <tr>\n",
       "      <th>0</th>\n",
       "      <td>Biased</td>\n",
       "      <td>0.056212</td>\n",
       "      <td>0.013935</td>\n",
       "      <td>0.023457</td>\n",
       "    </tr>\n",
       "    <tr>\n",
       "      <th>1</th>\n",
       "      <td>Unbiased</td>\n",
       "      <td>0.090606</td>\n",
       "      <td>0.048329</td>\n",
       "      <td>0.047601</td>\n",
       "    </tr>\n",
       "    <tr>\n",
       "      <th>2</th>\n",
       "      <td>Unbiased_feedback_sampling</td>\n",
       "      <td>0.348832</td>\n",
       "      <td>0.109274</td>\n",
       "      <td>0.027003</td>\n",
       "    </tr>\n",
       "  </tbody>\n",
       "</table>\n",
       "</div>"
      ],
      "text/plain": [
       "                         type        HR       MRR      nDCG\n",
       "0                      Biased  0.056212  0.013935  0.023457\n",
       "1                    Unbiased  0.090606  0.048329  0.047601\n",
       "2  Unbiased_feedback_sampling  0.348832  0.109274  0.027003"
      ]
     },
     "execution_count": 101,
     "metadata": {},
     "output_type": "execute_result"
    }
   ],
   "source": [
    "metrics_df"
   ]
  },
  {
   "cell_type": "code",
   "execution_count": 102,
   "id": "8dd4df11-3f01-49d3-8653-1bc7f1e4e730",
   "metadata": {},
   "outputs": [
    {
     "data": {
      "text/plain": [
       "0.03644258104106743"
      ]
     },
     "execution_count": 102,
     "metadata": {},
     "output_type": "execute_result"
    }
   ],
   "source": [
    "beta"
   ]
  },
  {
   "cell_type": "code",
   "execution_count": 103,
   "id": "f8fdda0c-b189-4fea-bd80-922844089ee8",
   "metadata": {},
   "outputs": [],
   "source": [
    "preds_test_pos = preds_test[preds_test['rating'] >= 3.5]"
   ]
  },
  {
   "cell_type": "code",
   "execution_count": 104,
   "id": "15ef2565-122e-4224-a8fd-739e36a89e97",
   "metadata": {},
   "outputs": [
    {
     "data": {
      "text/plain": [
       "(0.348832, 0.001150057123658177)"
      ]
     },
     "execution_count": 104,
     "metadata": {},
     "output_type": "execute_result"
    }
   ],
   "source": [
    "hr(preds_test_pos, beta=beta, sample_feedback=True, return_confidence_interval=True)"
   ]
  },
  {
   "cell_type": "code",
   "execution_count": 105,
   "id": "3916f7b7-8920-48c1-b241-17d1cacfd50d",
   "metadata": {},
   "outputs": [
    {
     "data": {
      "text/plain": [
       "(0.109274, 0.00045300593498073805)"
      ]
     },
     "execution_count": 105,
     "metadata": {},
     "output_type": "execute_result"
    }
   ],
   "source": [
    "mrr(preds_test_pos, beta=beta, sample_feedback=True, return_confidence_interval=True)"
   ]
  },
  {
   "cell_type": "code",
   "execution_count": 106,
   "id": "e14d6fec-6d7d-459f-afc2-88f66d96f1d6",
   "metadata": {},
   "outputs": [
    {
     "data": {
      "text/plain": [
       "(0.027003, 1.2871707838028879e-05)"
      ]
     },
     "execution_count": 106,
     "metadata": {},
     "output_type": "execute_result"
    }
   ],
   "source": [
    "ndcg(preds_test_pos, beta=beta, sample_feedback=True, return_confidence_interval=True)"
   ]
  },
  {
   "cell_type": "code",
   "execution_count": null,
   "id": "1f03c3cb-fc27-45e2-864a-0180d2a4d7fb",
   "metadata": {},
   "outputs": [],
   "source": []
  }
 ],
 "metadata": {
  "kernelspec": {
   "display_name": "Python 3 (ipykernel)",
   "language": "python",
   "name": "python3"
  },
  "language_info": {
   "codemirror_mode": {
    "name": "ipython",
    "version": 3
   },
   "file_extension": ".py",
   "mimetype": "text/x-python",
   "name": "python",
   "nbconvert_exporter": "python",
   "pygments_lexer": "ipython3",
   "version": "3.11.7"
  }
 },
 "nbformat": 4,
 "nbformat_minor": 5
}
