{
 "cells": [
  {
   "cell_type": "code",
   "execution_count": 1,
   "id": "281a9958-e691-4ff3-bfb9-1a7fc2beec1d",
   "metadata": {},
   "outputs": [],
   "source": [
    "import os\n",
    "import sys\n",
    "\n",
    "os.environ[\"CUDA_DEVICE_ORDER\"] = \"PCI_BUS_ID\"\n",
    "os.environ[\"CUDA_VISIBLE_DEVICES\"] = \"0\"\n",
    "sys.path.append('../')"
   ]
  },
  {
   "cell_type": "code",
   "execution_count": 2,
   "id": "96da0f91-c34a-48dc-9329-32076f13cf27",
   "metadata": {
    "tags": []
   },
   "outputs": [],
   "source": [
    "import gc\n",
    "from collections import Counter\n",
    "from typing import Callable, List, Tuple\n",
    "\n",
    "import pandas as pd\n",
    "import numpy as np\n",
    "from sklearn.model_selection import ParameterGrid\n",
    "from sklearn.model_selection import train_test_split\n",
    "from scipy.sparse import csr_matrix, diags\n",
    "from scipy.sparse.linalg import svds\n",
    "import time\n",
    "from tqdm import tqdm\n",
    "\n",
    "from src.preprocess import add_time_idx\n",
    "from src.prepare_data import train_val_test_split, get_users_history\n",
    "from src.SVD import SVD\n",
    "from src.unbiased_metrics import get_metrics, hr, mrr, ndcg"
   ]
  },
  {
   "cell_type": "markdown",
   "id": "e1f26311-561e-4955-910c-a8ca48646370",
   "metadata": {},
   "source": [
    "## Load Data"
   ]
  },
  {
   "cell_type": "code",
   "execution_count": 3,
   "id": "e9f09eca-5f2b-4953-ac64-0f123f4b0d08",
   "metadata": {},
   "outputs": [],
   "source": [
    "train = pd.read_csv('train.csv')\n",
    "test = pd.read_csv('test.csv')\n",
    "val_2 = pd.read_csv('val_2.csv')\n",
    "test_users_history = pd.read_csv('test_users_history.csv')"
   ]
  },
  {
   "cell_type": "markdown",
   "id": "5e47c229-93c5-4722-bd23-72b1782f19e2",
   "metadata": {},
   "source": [
    "# Popular model"
   ]
  },
  {
   "cell_type": "code",
   "execution_count": 4,
   "id": "fdbdc753-0b41-46cd-9e9d-e15bf3c12a78",
   "metadata": {},
   "outputs": [],
   "source": [
    "k = 10"
   ]
  },
  {
   "cell_type": "code",
   "execution_count": 5,
   "id": "df8eb33c-657b-4429-92a6-5a9b037b542f",
   "metadata": {},
   "outputs": [],
   "source": [
    "count_items = Counter(train.item_id)\n",
    "count_items = [*count_items.items()]\n",
    "count_items.sort(key=lambda x: x[1], reverse=True)"
   ]
  },
  {
   "cell_type": "code",
   "execution_count": 6,
   "id": "17a9d000-4e93-4df3-b4f4-8e1625c023f3",
   "metadata": {},
   "outputs": [],
   "source": [
    "pred_items = [k for k, v in count_items[:k]]"
   ]
  },
  {
   "cell_type": "code",
   "execution_count": 7,
   "id": "ee3b56fa-09a9-4874-b4b4-14ca7eaccb7e",
   "metadata": {},
   "outputs": [],
   "source": [
    "preds_val = val_2.copy()\n",
    "preds_val['pred_items'] = [pred_items] * preds_val.shape[0]\n",
    "preds_test = test.copy()\n",
    "preds_test['pred_items'] = [pred_items] * preds_test.shape[0]"
   ]
  },
  {
   "cell_type": "code",
   "execution_count": 8,
   "id": "77421714-dd05-4df1-b6cd-14521a4cb612",
   "metadata": {},
   "outputs": [],
   "source": [
    "metrics_df, beta = get_metrics(preds_test, preds_val)"
   ]
  },
  {
   "cell_type": "code",
   "execution_count": 9,
   "id": "2db50d26-4e65-45cd-a3e9-961de5111807",
   "metadata": {},
   "outputs": [
    {
     "data": {
      "text/html": [
       "<div>\n",
       "<style scoped>\n",
       "    .dataframe tbody tr th:only-of-type {\n",
       "        vertical-align: middle;\n",
       "    }\n",
       "\n",
       "    .dataframe tbody tr th {\n",
       "        vertical-align: top;\n",
       "    }\n",
       "\n",
       "    .dataframe thead th {\n",
       "        text-align: right;\n",
       "    }\n",
       "</style>\n",
       "<table border=\"1\" class=\"dataframe\">\n",
       "  <thead>\n",
       "    <tr style=\"text-align: right;\">\n",
       "      <th></th>\n",
       "      <th>type</th>\n",
       "      <th>HR</th>\n",
       "      <th>MRR</th>\n",
       "      <th>nDCG</th>\n",
       "    </tr>\n",
       "  </thead>\n",
       "  <tbody>\n",
       "    <tr>\n",
       "      <th>0</th>\n",
       "      <td>Biased</td>\n",
       "      <td>0.019709</td>\n",
       "      <td>0.005747</td>\n",
       "      <td>0.008945</td>\n",
       "    </tr>\n",
       "    <tr>\n",
       "      <th>1</th>\n",
       "      <td>Unbiased</td>\n",
       "      <td>0.033836</td>\n",
       "      <td>0.019874</td>\n",
       "      <td>0.018786</td>\n",
       "    </tr>\n",
       "    <tr>\n",
       "      <th>2</th>\n",
       "      <td>Unbiased_feedback_sampling</td>\n",
       "      <td>0.152038</td>\n",
       "      <td>0.046215</td>\n",
       "      <td>0.009559</td>\n",
       "    </tr>\n",
       "  </tbody>\n",
       "</table>\n",
       "</div>"
      ],
      "text/plain": [
       "                         type        HR       MRR      nDCG\n",
       "0                      Biased  0.019709  0.005747  0.008945\n",
       "1                    Unbiased  0.033836  0.019874  0.018786\n",
       "2  Unbiased_feedback_sampling  0.152038  0.046215  0.009559"
      ]
     },
     "execution_count": 9,
     "metadata": {},
     "output_type": "execute_result"
    }
   ],
   "source": [
    "metrics_df"
   ]
  },
  {
   "cell_type": "code",
   "execution_count": 10,
   "id": "8dd4df11-3f01-49d3-8653-1bc7f1e4e730",
   "metadata": {},
   "outputs": [
    {
     "data": {
      "text/plain": [
       "0.014411184835429408"
      ]
     },
     "execution_count": 10,
     "metadata": {},
     "output_type": "execute_result"
    }
   ],
   "source": [
    "beta"
   ]
  },
  {
   "cell_type": "code",
   "execution_count": 11,
   "id": "f8fdda0c-b189-4fea-bd80-922844089ee8",
   "metadata": {},
   "outputs": [],
   "source": [
    "preds_test_pos = preds_test[preds_test['rating'] >= 3.5]"
   ]
  },
  {
   "cell_type": "code",
   "execution_count": 12,
   "id": "15ef2565-122e-4224-a8fd-739e36a89e97",
   "metadata": {},
   "outputs": [
    {
     "data": {
      "text/plain": [
       "(0.152038, 0.0008839120318355209)"
      ]
     },
     "execution_count": 12,
     "metadata": {},
     "output_type": "execute_result"
    }
   ],
   "source": [
    "hr(preds_test_pos, beta=beta, sample_feedback=True, return_confidence_interval=True)"
   ]
  },
  {
   "cell_type": "code",
   "execution_count": 13,
   "id": "3916f7b7-8920-48c1-b241-17d1cacfd50d",
   "metadata": {},
   "outputs": [
    {
     "data": {
      "text/plain": [
       "(0.046215, 0.0004461437024730966)"
      ]
     },
     "execution_count": 13,
     "metadata": {},
     "output_type": "execute_result"
    }
   ],
   "source": [
    "mrr(preds_test_pos, beta=beta, sample_feedback=True, return_confidence_interval=True)"
   ]
  },
  {
   "cell_type": "code",
   "execution_count": 14,
   "id": "e14d6fec-6d7d-459f-afc2-88f66d96f1d6",
   "metadata": {},
   "outputs": [
    {
     "data": {
      "text/plain": [
       "(0.009559, 5.2964975389667435e-06)"
      ]
     },
     "execution_count": 14,
     "metadata": {},
     "output_type": "execute_result"
    }
   ],
   "source": [
    "ndcg(preds_test_pos, beta=beta, sample_feedback=True, return_confidence_interval=True)"
   ]
  },
  {
   "cell_type": "markdown",
   "id": "a1ea8ba7-4186-43f6-b468-8bc183a14f3f",
   "metadata": {},
   "source": [
    "# Random model"
   ]
  },
  {
   "cell_type": "code",
   "execution_count": 15,
   "id": "ac77efa2-1008-4305-9279-0cac2253ca46",
   "metadata": {},
   "outputs": [],
   "source": [
    "preds_val = val_2.copy()\n",
    "preds_val['pred_items'] = [np.random.choice(train.item_id.unique(), k, replace=False).tolist() for _ in range(preds_val.shape[0])]\n",
    "preds_test = test.copy()\n",
    "preds_test['pred_items'] = [np.random.choice(train.item_id.unique(), k, replace=False).tolist() for _ in range(preds_test.shape[0])]"
   ]
  },
  {
   "cell_type": "code",
   "execution_count": 16,
   "id": "36e73147-169d-4017-92a2-391ce3c1dec5",
   "metadata": {},
   "outputs": [],
   "source": [
    "metrics_df, beta = get_metrics(preds_test, preds_val)"
   ]
  },
  {
   "cell_type": "code",
   "execution_count": 17,
   "id": "4ad00565-261d-42fc-9517-138db9674955",
   "metadata": {},
   "outputs": [
    {
     "data": {
      "text/html": [
       "<div>\n",
       "<style scoped>\n",
       "    .dataframe tbody tr th:only-of-type {\n",
       "        vertical-align: middle;\n",
       "    }\n",
       "\n",
       "    .dataframe tbody tr th {\n",
       "        vertical-align: top;\n",
       "    }\n",
       "\n",
       "    .dataframe thead th {\n",
       "        text-align: right;\n",
       "    }\n",
       "</style>\n",
       "<table border=\"1\" class=\"dataframe\">\n",
       "  <thead>\n",
       "    <tr style=\"text-align: right;\">\n",
       "      <th></th>\n",
       "      <th>type</th>\n",
       "      <th>HR</th>\n",
       "      <th>MRR</th>\n",
       "      <th>nDCG</th>\n",
       "    </tr>\n",
       "  </thead>\n",
       "  <tbody>\n",
       "    <tr>\n",
       "      <th>0</th>\n",
       "      <td>Biased</td>\n",
       "      <td>0.002914</td>\n",
       "      <td>0.001033</td>\n",
       "      <td>0.001467</td>\n",
       "    </tr>\n",
       "    <tr>\n",
       "      <th>1</th>\n",
       "      <td>Unbiased</td>\n",
       "      <td>0.003981</td>\n",
       "      <td>0.002100</td>\n",
       "      <td>0.002207</td>\n",
       "    </tr>\n",
       "    <tr>\n",
       "      <th>2</th>\n",
       "      <td>Unbiased_feedback_sampling</td>\n",
       "      <td>0.013537</td>\n",
       "      <td>0.004185</td>\n",
       "      <td>0.001471</td>\n",
       "    </tr>\n",
       "  </tbody>\n",
       "</table>\n",
       "</div>"
      ],
      "text/plain": [
       "                         type        HR       MRR      nDCG\n",
       "0                      Biased  0.002914  0.001033  0.001467\n",
       "1                    Unbiased  0.003981  0.002100  0.002207\n",
       "2  Unbiased_feedback_sampling  0.013537  0.004185  0.001471"
      ]
     },
     "execution_count": 17,
     "metadata": {},
     "output_type": "execute_result"
    }
   ],
   "source": [
    "metrics_df"
   ]
  },
  {
   "cell_type": "code",
   "execution_count": 18,
   "id": "b3ec7f27-da2d-4b40-ba32-e0098d52d936",
   "metadata": {},
   "outputs": [
    {
     "data": {
      "text/plain": [
       "0.0010698619878035734"
      ]
     },
     "execution_count": 18,
     "metadata": {},
     "output_type": "execute_result"
    }
   ],
   "source": [
    "beta"
   ]
  },
  {
   "cell_type": "code",
   "execution_count": 19,
   "id": "6860940d-b53c-4674-bf1f-3cf54fa3dea1",
   "metadata": {},
   "outputs": [],
   "source": [
    "preds_test_pos = preds_test[preds_test['rating'] >= 3.5]"
   ]
  },
  {
   "cell_type": "code",
   "execution_count": 20,
   "id": "212d9f62-af95-4466-a1e9-45fe471627c8",
   "metadata": {},
   "outputs": [
    {
     "data": {
      "text/plain": [
       "(0.013537, 0.00020365139148034207)"
      ]
     },
     "execution_count": 20,
     "metadata": {},
     "output_type": "execute_result"
    }
   ],
   "source": [
    "hr(preds_test_pos, beta=beta, sample_feedback=True, return_confidence_interval=True)"
   ]
  },
  {
   "cell_type": "code",
   "execution_count": 21,
   "id": "f610be26-2c81-49e1-ad7d-20b84145f293",
   "metadata": {},
   "outputs": [
    {
     "data": {
      "text/plain": [
       "(0.004185, 7.764567995535016e-05)"
      ]
     },
     "execution_count": 21,
     "metadata": {},
     "output_type": "execute_result"
    }
   ],
   "source": [
    "mrr(preds_test_pos, beta=beta, sample_feedback=True, return_confidence_interval=True)"
   ]
  },
  {
   "cell_type": "code",
   "execution_count": 22,
   "id": "b37c374f-4244-4a26-8bd0-c4a3fa4e9578",
   "metadata": {},
   "outputs": [
    {
     "data": {
      "text/plain": [
       "(0.001471, 6.91378551744351e-08)"
      ]
     },
     "execution_count": 22,
     "metadata": {},
     "output_type": "execute_result"
    }
   ],
   "source": [
    "ndcg(preds_test_pos, beta=beta, sample_feedback=True, return_confidence_interval=True)"
   ]
  },
  {
   "cell_type": "code",
   "execution_count": null,
   "id": "1f03c3cb-fc27-45e2-864a-0180d2a4d7fb",
   "metadata": {},
   "outputs": [],
   "source": []
  }
 ],
 "metadata": {
  "kernelspec": {
   "display_name": "Python 3 (ipykernel)",
   "language": "python",
   "name": "python3"
  },
  "language_info": {
   "codemirror_mode": {
    "name": "ipython",
    "version": 3
   },
   "file_extension": ".py",
   "mimetype": "text/x-python",
   "name": "python",
   "nbconvert_exporter": "python",
   "pygments_lexer": "ipython3",
   "version": "3.11.7"
  }
 },
 "nbformat": 4,
 "nbformat_minor": 5
}
