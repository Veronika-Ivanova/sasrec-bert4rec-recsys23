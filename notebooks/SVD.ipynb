{
 "cells": [
  {
   "cell_type": "code",
   "execution_count": 1,
   "id": "281a9958-e691-4ff3-bfb9-1a7fc2beec1d",
   "metadata": {},
   "outputs": [],
   "source": [
    "import os\n",
    "import sys\n",
    "\n",
    "os.environ[\"CUDA_DEVICE_ORDER\"] = \"PCI_BUS_ID\"\n",
    "os.environ[\"CUDA_VISIBLE_DEVICES\"] = \"0\"\n",
    "sys.path.append('../')"
   ]
  },
  {
   "cell_type": "code",
   "execution_count": 2,
   "id": "96da0f91-c34a-48dc-9329-32076f13cf27",
   "metadata": {
    "tags": []
   },
   "outputs": [],
   "source": [
    "import gc\n",
    "from typing import Callable, List, Tuple\n",
    "\n",
    "import pandas as pd\n",
    "import numpy as np\n",
    "from sklearn.model_selection import ParameterGrid\n",
    "from sklearn.model_selection import train_test_split\n",
    "from scipy.sparse import csr_matrix, diags\n",
    "from scipy.sparse.linalg import svds\n",
    "import time\n",
    "from tqdm import tqdm\n",
    "\n",
    "from src.preprocess import add_time_idx\n",
    "from src.prepare_data import train_val_test_split, get_users_history\n",
    "from src.SVD import SVD\n",
    "from src.unbiased_metrics import get_metrics, hr, mrr, ndcg"
   ]
  },
  {
   "cell_type": "markdown",
   "id": "e1f26311-561e-4955-910c-a8ca48646370",
   "metadata": {},
   "source": [
    "## Load Data"
   ]
  },
  {
   "cell_type": "code",
   "execution_count": 3,
   "id": "284cba72-0427-4f32-baf5-5549d705d62e",
   "metadata": {},
   "outputs": [],
   "source": [
    "columns = ['user_id', 'item_id', 'rating', 'timestamp']\n",
    "data = pd.read_table('../data/ml-1m.dat', names = columns, sep = \"::\", encoding = \"latin1\", engine='python')"
   ]
  },
  {
   "cell_type": "code",
   "execution_count": 4,
   "id": "506dc735-8a26-48f7-be22-bdb7f0aa9133",
   "metadata": {},
   "outputs": [],
   "source": [
    "train, val_1, val_2, test, train_dict, test_dict = train_val_test_split(data, filter_negative=False)"
   ]
  },
  {
   "cell_type": "code",
   "execution_count": 5,
   "id": "f855e251-798e-4b11-884e-731d0d5dca07",
   "metadata": {},
   "outputs": [
    {
     "name": "stderr",
     "output_type": "stream",
     "text": [
      "47862it [2:44:03,  4.86it/s]\n"
     ]
    }
   ],
   "source": [
    "test_users_history = get_users_history(test, train_dict, test_dict)"
   ]
  },
  {
   "cell_type": "code",
   "execution_count": 6,
   "id": "fb6a358f-2b20-4eb5-ac9d-ad5648e12ee8",
   "metadata": {},
   "outputs": [
    {
     "name": "stderr",
     "output_type": "stream",
     "text": [
      "23931it [39:42, 10.04it/s]\n"
     ]
    }
   ],
   "source": [
    "val_users_history_1 = get_users_history(val_1, train_dict, test_dict)"
   ]
  },
  {
   "cell_type": "code",
   "execution_count": 7,
   "id": "b4124f7f-3822-43f1-9251-bbb41ba9425b",
   "metadata": {},
   "outputs": [
    {
     "name": "stderr",
     "output_type": "stream",
     "text": [
      "23931it [42:35,  9.37it/s]\n"
     ]
    }
   ],
   "source": [
    "val_users_history_2 = get_users_history(val_2, train_dict, test_dict)"
   ]
  },
  {
   "cell_type": "code",
   "execution_count": 8,
   "id": "e9f09eca-5f2b-4953-ac64-0f123f4b0d08",
   "metadata": {},
   "outputs": [],
   "source": [
    "train.to_csv('train.csv', index=False)\n",
    "val_1.to_csv('val_1.csv', index=False)\n",
    "val_2.to_csv('val_2.csv', index=False)\n",
    "test.to_csv('test.csv', index=False)\n",
    "test_users_history.to_csv('test_users_history.csv', index=False)\n",
    "val_users_history_1.to_csv('val_users_history_1.csv', index=False)\n",
    "val_users_history_2.to_csv('val_users_history_2.csv', index=False)"
   ]
  },
  {
   "cell_type": "code",
   "execution_count": 3,
   "id": "7e85d4a4-1e64-444b-8460-9a1fee0bd48c",
   "metadata": {},
   "outputs": [],
   "source": [
    "train = pd.read_csv('train.csv')\n",
    "test = pd.read_csv('test.csv')\n",
    "val_2 = pd.read_csv('val_2.csv')\n",
    "test_users_history = pd.read_csv('test_users_history.csv')\n",
    "val_users_history_2 = pd.read_csv('val_users_history_2.csv')"
   ]
  },
  {
   "cell_type": "markdown",
   "id": "5e47c229-93c5-4722-bd23-72b1782f19e2",
   "metadata": {},
   "source": [
    "# Hyper parameters selection "
   ]
  },
  {
   "cell_type": "code",
   "execution_count": 9,
   "id": "c89aeb55-d8ad-41ce-80b6-b75b0b824eeb",
   "metadata": {},
   "outputs": [],
   "source": [
    "def grid_search(param_list: list, \n",
    "                train: pd.DataFrame, \n",
    "                val_history: pd.DataFrame, \n",
    "                val: pd.DataFrame) -> Tuple[list, float]:\n",
    "    best_params = param_list[0]\n",
    "    max_ndcg = -1\n",
    "    for params in param_list:\n",
    "        svd = SVD(**params)\n",
    "        svd.fit(train)\n",
    "        scores = svd.predict_folding_in(val_history)\n",
    "        preds = svd.get_top_k(scores, user_col = 'test_user_idx')      \n",
    "        \n",
    "        preds = preds.merge(val, on='test_user_idx', how='inner') \n",
    "        preds = preds[preds['rating'] >= 3.5]\n",
    "        \n",
    "        cur_ndcg = ndcg(preds)\n",
    "        print(f'params = {params}')\n",
    "        print(f'ndcg = {cur_ndcg}')\n",
    "        \n",
    "        if cur_ndcg > max_ndcg:\n",
    "            max_ndcg = cur_ndcg\n",
    "            best_params = params\n",
    "    return best_params, max_ndcg"
   ]
  },
  {
   "cell_type": "code",
   "execution_count": 10,
   "id": "e90fc48f-2d4f-4103-b55f-7e1dc9877e52",
   "metadata": {},
   "outputs": [],
   "source": [
    "param_grid = {'alpha': np.linspace(0.1, 0.8, 8), 'n_factors': np.linspace(50, 500, 10).astype(int)}\n",
    "param_list = list(ParameterGrid(param_grid))"
   ]
  },
  {
   "cell_type": "code",
   "execution_count": 11,
   "id": "01a32212-afce-467d-814d-c638bc1298ca",
   "metadata": {},
   "outputs": [
    {
     "name": "stderr",
     "output_type": "stream",
     "text": [
      "100%|██████████| 1/1 [00:01<00:00,  1.16s/it]\n"
     ]
    },
    {
     "name": "stdout",
     "output_type": "stream",
     "text": [
      "params = {'alpha': 0.1, 'n_factors': 50}\n",
      "ndcg = 0.032193\n"
     ]
    },
    {
     "name": "stderr",
     "output_type": "stream",
     "text": [
      "100%|██████████| 1/1 [00:01<00:00,  1.12s/it]\n"
     ]
    },
    {
     "name": "stdout",
     "output_type": "stream",
     "text": [
      "params = {'alpha': 0.1, 'n_factors': 100}\n",
      "ndcg = 0.034343\n"
     ]
    },
    {
     "name": "stderr",
     "output_type": "stream",
     "text": [
      "100%|██████████| 1/1 [00:01<00:00,  1.11s/it]\n"
     ]
    },
    {
     "name": "stdout",
     "output_type": "stream",
     "text": [
      "params = {'alpha': 0.1, 'n_factors': 150}\n",
      "ndcg = 0.035178\n"
     ]
    },
    {
     "name": "stderr",
     "output_type": "stream",
     "text": [
      "100%|██████████| 1/1 [00:01<00:00,  1.12s/it]\n"
     ]
    },
    {
     "name": "stdout",
     "output_type": "stream",
     "text": [
      "params = {'alpha': 0.1, 'n_factors': 200}\n",
      "ndcg = 0.037096\n"
     ]
    },
    {
     "name": "stderr",
     "output_type": "stream",
     "text": [
      "100%|██████████| 1/1 [00:01<00:00,  1.09s/it]\n"
     ]
    },
    {
     "name": "stdout",
     "output_type": "stream",
     "text": [
      "params = {'alpha': 0.1, 'n_factors': 250}\n",
      "ndcg = 0.036119\n"
     ]
    },
    {
     "name": "stderr",
     "output_type": "stream",
     "text": [
      "100%|██████████| 1/1 [00:01<00:00,  1.10s/it]\n"
     ]
    },
    {
     "name": "stdout",
     "output_type": "stream",
     "text": [
      "params = {'alpha': 0.1, 'n_factors': 300}\n",
      "ndcg = 0.037319\n"
     ]
    },
    {
     "name": "stderr",
     "output_type": "stream",
     "text": [
      "100%|██████████| 1/1 [00:01<00:00,  1.11s/it]\n"
     ]
    },
    {
     "name": "stdout",
     "output_type": "stream",
     "text": [
      "params = {'alpha': 0.1, 'n_factors': 350}\n",
      "ndcg = 0.037289\n"
     ]
    },
    {
     "name": "stderr",
     "output_type": "stream",
     "text": [
      "100%|██████████| 1/1 [00:01<00:00,  1.05s/it]\n"
     ]
    },
    {
     "name": "stdout",
     "output_type": "stream",
     "text": [
      "params = {'alpha': 0.1, 'n_factors': 400}\n",
      "ndcg = 0.035919\n"
     ]
    },
    {
     "name": "stderr",
     "output_type": "stream",
     "text": [
      "100%|██████████| 1/1 [00:01<00:00,  1.10s/it]\n"
     ]
    },
    {
     "name": "stdout",
     "output_type": "stream",
     "text": [
      "params = {'alpha': 0.1, 'n_factors': 450}\n",
      "ndcg = 0.035173\n"
     ]
    },
    {
     "name": "stderr",
     "output_type": "stream",
     "text": [
      "100%|██████████| 1/1 [00:01<00:00,  1.13s/it]\n"
     ]
    },
    {
     "name": "stdout",
     "output_type": "stream",
     "text": [
      "params = {'alpha': 0.1, 'n_factors': 500}\n",
      "ndcg = 0.037208\n"
     ]
    },
    {
     "name": "stderr",
     "output_type": "stream",
     "text": [
      "100%|██████████| 1/1 [00:01<00:00,  1.19s/it]\n"
     ]
    },
    {
     "name": "stdout",
     "output_type": "stream",
     "text": [
      "params = {'alpha': 0.2, 'n_factors': 50}\n",
      "ndcg = 0.03351\n"
     ]
    },
    {
     "name": "stderr",
     "output_type": "stream",
     "text": [
      "100%|██████████| 1/1 [00:01<00:00,  1.21s/it]\n"
     ]
    },
    {
     "name": "stdout",
     "output_type": "stream",
     "text": [
      "params = {'alpha': 0.2, 'n_factors': 100}\n",
      "ndcg = 0.035345\n"
     ]
    },
    {
     "name": "stderr",
     "output_type": "stream",
     "text": [
      "100%|██████████| 1/1 [00:01<00:00,  1.15s/it]\n"
     ]
    },
    {
     "name": "stdout",
     "output_type": "stream",
     "text": [
      "params = {'alpha': 0.2, 'n_factors': 150}\n",
      "ndcg = 0.034959\n"
     ]
    },
    {
     "name": "stderr",
     "output_type": "stream",
     "text": [
      "100%|██████████| 1/1 [00:01<00:00,  1.18s/it]\n"
     ]
    },
    {
     "name": "stdout",
     "output_type": "stream",
     "text": [
      "params = {'alpha': 0.2, 'n_factors': 200}\n",
      "ndcg = 0.035894\n"
     ]
    },
    {
     "name": "stderr",
     "output_type": "stream",
     "text": [
      "100%|██████████| 1/1 [00:01<00:00,  1.14s/it]\n"
     ]
    },
    {
     "name": "stdout",
     "output_type": "stream",
     "text": [
      "params = {'alpha': 0.2, 'n_factors': 250}\n",
      "ndcg = 0.037417\n"
     ]
    },
    {
     "name": "stderr",
     "output_type": "stream",
     "text": [
      "100%|██████████| 1/1 [00:01<00:00,  1.12s/it]\n"
     ]
    },
    {
     "name": "stdout",
     "output_type": "stream",
     "text": [
      "params = {'alpha': 0.2, 'n_factors': 300}\n",
      "ndcg = 0.036098\n"
     ]
    },
    {
     "name": "stderr",
     "output_type": "stream",
     "text": [
      "100%|██████████| 1/1 [00:01<00:00,  1.14s/it]\n"
     ]
    },
    {
     "name": "stdout",
     "output_type": "stream",
     "text": [
      "params = {'alpha': 0.2, 'n_factors': 350}\n",
      "ndcg = 0.03623\n"
     ]
    },
    {
     "name": "stderr",
     "output_type": "stream",
     "text": [
      "100%|██████████| 1/1 [00:01<00:00,  1.12s/it]\n"
     ]
    },
    {
     "name": "stdout",
     "output_type": "stream",
     "text": [
      "params = {'alpha': 0.2, 'n_factors': 400}\n",
      "ndcg = 0.036819\n"
     ]
    },
    {
     "name": "stderr",
     "output_type": "stream",
     "text": [
      "100%|██████████| 1/1 [00:01<00:00,  1.11s/it]\n"
     ]
    },
    {
     "name": "stdout",
     "output_type": "stream",
     "text": [
      "params = {'alpha': 0.2, 'n_factors': 450}\n",
      "ndcg = 0.035835\n"
     ]
    },
    {
     "name": "stderr",
     "output_type": "stream",
     "text": [
      "100%|██████████| 1/1 [00:01<00:00,  1.14s/it]\n"
     ]
    },
    {
     "name": "stdout",
     "output_type": "stream",
     "text": [
      "params = {'alpha': 0.2, 'n_factors': 500}\n",
      "ndcg = 0.036118\n"
     ]
    },
    {
     "name": "stderr",
     "output_type": "stream",
     "text": [
      "100%|██████████| 1/1 [00:01<00:00,  1.12s/it]\n"
     ]
    },
    {
     "name": "stdout",
     "output_type": "stream",
     "text": [
      "params = {'alpha': 0.30000000000000004, 'n_factors': 50}\n",
      "ndcg = 0.03365\n"
     ]
    },
    {
     "name": "stderr",
     "output_type": "stream",
     "text": [
      "100%|██████████| 1/1 [00:01<00:00,  1.14s/it]\n"
     ]
    },
    {
     "name": "stdout",
     "output_type": "stream",
     "text": [
      "params = {'alpha': 0.30000000000000004, 'n_factors': 100}\n",
      "ndcg = 0.036451\n"
     ]
    },
    {
     "name": "stderr",
     "output_type": "stream",
     "text": [
      "100%|██████████| 1/1 [00:01<00:00,  1.14s/it]\n"
     ]
    },
    {
     "name": "stdout",
     "output_type": "stream",
     "text": [
      "params = {'alpha': 0.30000000000000004, 'n_factors': 150}\n",
      "ndcg = 0.035767\n"
     ]
    },
    {
     "name": "stderr",
     "output_type": "stream",
     "text": [
      "100%|██████████| 1/1 [00:01<00:00,  1.13s/it]\n"
     ]
    },
    {
     "name": "stdout",
     "output_type": "stream",
     "text": [
      "params = {'alpha': 0.30000000000000004, 'n_factors': 200}\n",
      "ndcg = 0.037034\n"
     ]
    },
    {
     "name": "stderr",
     "output_type": "stream",
     "text": [
      "100%|██████████| 1/1 [00:01<00:00,  1.14s/it]\n"
     ]
    },
    {
     "name": "stdout",
     "output_type": "stream",
     "text": [
      "params = {'alpha': 0.30000000000000004, 'n_factors': 250}\n",
      "ndcg = 0.035014\n"
     ]
    },
    {
     "name": "stderr",
     "output_type": "stream",
     "text": [
      "100%|██████████| 1/1 [00:01<00:00,  1.13s/it]\n"
     ]
    },
    {
     "name": "stdout",
     "output_type": "stream",
     "text": [
      "params = {'alpha': 0.30000000000000004, 'n_factors': 300}\n",
      "ndcg = 0.036201\n"
     ]
    },
    {
     "name": "stderr",
     "output_type": "stream",
     "text": [
      "100%|██████████| 1/1 [00:01<00:00,  1.12s/it]\n"
     ]
    },
    {
     "name": "stdout",
     "output_type": "stream",
     "text": [
      "params = {'alpha': 0.30000000000000004, 'n_factors': 350}\n",
      "ndcg = 0.035109\n"
     ]
    },
    {
     "name": "stderr",
     "output_type": "stream",
     "text": [
      "100%|██████████| 1/1 [00:01<00:00,  1.12s/it]\n"
     ]
    },
    {
     "name": "stdout",
     "output_type": "stream",
     "text": [
      "params = {'alpha': 0.30000000000000004, 'n_factors': 400}\n",
      "ndcg = 0.034813\n"
     ]
    },
    {
     "name": "stderr",
     "output_type": "stream",
     "text": [
      "100%|██████████| 1/1 [00:01<00:00,  1.11s/it]\n"
     ]
    },
    {
     "name": "stdout",
     "output_type": "stream",
     "text": [
      "params = {'alpha': 0.30000000000000004, 'n_factors': 450}\n",
      "ndcg = 0.033662\n"
     ]
    },
    {
     "name": "stderr",
     "output_type": "stream",
     "text": [
      "100%|██████████| 1/1 [00:01<00:00,  1.14s/it]\n"
     ]
    },
    {
     "name": "stdout",
     "output_type": "stream",
     "text": [
      "params = {'alpha': 0.30000000000000004, 'n_factors': 500}\n",
      "ndcg = 0.035265\n"
     ]
    },
    {
     "name": "stderr",
     "output_type": "stream",
     "text": [
      "100%|██████████| 1/1 [00:01<00:00,  1.12s/it]\n"
     ]
    },
    {
     "name": "stdout",
     "output_type": "stream",
     "text": [
      "params = {'alpha': 0.4, 'n_factors': 50}\n",
      "ndcg = 0.035951\n"
     ]
    },
    {
     "name": "stderr",
     "output_type": "stream",
     "text": [
      "100%|██████████| 1/1 [00:01<00:00,  1.14s/it]\n"
     ]
    },
    {
     "name": "stdout",
     "output_type": "stream",
     "text": [
      "params = {'alpha': 0.4, 'n_factors': 100}\n",
      "ndcg = 0.036707\n"
     ]
    },
    {
     "name": "stderr",
     "output_type": "stream",
     "text": [
      "100%|██████████| 1/1 [00:01<00:00,  1.16s/it]\n"
     ]
    },
    {
     "name": "stdout",
     "output_type": "stream",
     "text": [
      "params = {'alpha': 0.4, 'n_factors': 150}\n",
      "ndcg = 0.037926\n"
     ]
    },
    {
     "name": "stderr",
     "output_type": "stream",
     "text": [
      "100%|██████████| 1/1 [00:01<00:00,  1.15s/it]\n"
     ]
    },
    {
     "name": "stdout",
     "output_type": "stream",
     "text": [
      "params = {'alpha': 0.4, 'n_factors': 200}\n",
      "ndcg = 0.036264\n"
     ]
    },
    {
     "name": "stderr",
     "output_type": "stream",
     "text": [
      "100%|██████████| 1/1 [00:01<00:00,  1.13s/it]\n"
     ]
    },
    {
     "name": "stdout",
     "output_type": "stream",
     "text": [
      "params = {'alpha': 0.4, 'n_factors': 250}\n",
      "ndcg = 0.034958\n"
     ]
    },
    {
     "name": "stderr",
     "output_type": "stream",
     "text": [
      "100%|██████████| 1/1 [00:01<00:00,  1.13s/it]\n"
     ]
    },
    {
     "name": "stdout",
     "output_type": "stream",
     "text": [
      "params = {'alpha': 0.4, 'n_factors': 300}\n",
      "ndcg = 0.034336\n"
     ]
    },
    {
     "name": "stderr",
     "output_type": "stream",
     "text": [
      "100%|██████████| 1/1 [00:01<00:00,  1.16s/it]\n"
     ]
    },
    {
     "name": "stdout",
     "output_type": "stream",
     "text": [
      "params = {'alpha': 0.4, 'n_factors': 350}\n",
      "ndcg = 0.033631\n"
     ]
    },
    {
     "name": "stderr",
     "output_type": "stream",
     "text": [
      "100%|██████████| 1/1 [00:01<00:00,  1.14s/it]\n"
     ]
    },
    {
     "name": "stdout",
     "output_type": "stream",
     "text": [
      "params = {'alpha': 0.4, 'n_factors': 400}\n",
      "ndcg = 0.034395\n"
     ]
    },
    {
     "name": "stderr",
     "output_type": "stream",
     "text": [
      "100%|██████████| 1/1 [00:01<00:00,  1.13s/it]\n"
     ]
    },
    {
     "name": "stdout",
     "output_type": "stream",
     "text": [
      "params = {'alpha': 0.4, 'n_factors': 450}\n",
      "ndcg = 0.032515\n"
     ]
    },
    {
     "name": "stderr",
     "output_type": "stream",
     "text": [
      "100%|██████████| 1/1 [00:01<00:00,  1.13s/it]\n"
     ]
    },
    {
     "name": "stdout",
     "output_type": "stream",
     "text": [
      "params = {'alpha': 0.4, 'n_factors': 500}\n",
      "ndcg = 0.031578\n"
     ]
    },
    {
     "name": "stderr",
     "output_type": "stream",
     "text": [
      "100%|██████████| 1/1 [00:01<00:00,  1.12s/it]\n"
     ]
    },
    {
     "name": "stdout",
     "output_type": "stream",
     "text": [
      "params = {'alpha': 0.5, 'n_factors': 50}\n",
      "ndcg = 0.035703\n"
     ]
    },
    {
     "name": "stderr",
     "output_type": "stream",
     "text": [
      "100%|██████████| 1/1 [00:01<00:00,  1.13s/it]\n"
     ]
    },
    {
     "name": "stdout",
     "output_type": "stream",
     "text": [
      "params = {'alpha': 0.5, 'n_factors': 100}\n",
      "ndcg = 0.036047\n"
     ]
    },
    {
     "name": "stderr",
     "output_type": "stream",
     "text": [
      "100%|██████████| 1/1 [00:01<00:00,  1.13s/it]\n"
     ]
    },
    {
     "name": "stdout",
     "output_type": "stream",
     "text": [
      "params = {'alpha': 0.5, 'n_factors': 150}\n",
      "ndcg = 0.035084\n"
     ]
    },
    {
     "name": "stderr",
     "output_type": "stream",
     "text": [
      "100%|██████████| 1/1 [00:01<00:00,  1.14s/it]\n"
     ]
    },
    {
     "name": "stdout",
     "output_type": "stream",
     "text": [
      "params = {'alpha': 0.5, 'n_factors': 200}\n",
      "ndcg = 0.034937\n"
     ]
    },
    {
     "name": "stderr",
     "output_type": "stream",
     "text": [
      "100%|██████████| 1/1 [00:01<00:00,  1.13s/it]\n"
     ]
    },
    {
     "name": "stdout",
     "output_type": "stream",
     "text": [
      "params = {'alpha': 0.5, 'n_factors': 250}\n",
      "ndcg = 0.034595\n"
     ]
    },
    {
     "name": "stderr",
     "output_type": "stream",
     "text": [
      "100%|██████████| 1/1 [00:01<00:00,  1.15s/it]\n"
     ]
    },
    {
     "name": "stdout",
     "output_type": "stream",
     "text": [
      "params = {'alpha': 0.5, 'n_factors': 300}\n",
      "ndcg = 0.03262\n"
     ]
    },
    {
     "name": "stderr",
     "output_type": "stream",
     "text": [
      "100%|██████████| 1/1 [00:01<00:00,  1.16s/it]\n"
     ]
    },
    {
     "name": "stdout",
     "output_type": "stream",
     "text": [
      "params = {'alpha': 0.5, 'n_factors': 350}\n",
      "ndcg = 0.031239\n"
     ]
    },
    {
     "name": "stderr",
     "output_type": "stream",
     "text": [
      "100%|██████████| 1/1 [00:01<00:00,  1.13s/it]\n"
     ]
    },
    {
     "name": "stdout",
     "output_type": "stream",
     "text": [
      "params = {'alpha': 0.5, 'n_factors': 400}\n",
      "ndcg = 0.033171\n"
     ]
    },
    {
     "name": "stderr",
     "output_type": "stream",
     "text": [
      "100%|██████████| 1/1 [00:01<00:00,  1.13s/it]\n"
     ]
    },
    {
     "name": "stdout",
     "output_type": "stream",
     "text": [
      "params = {'alpha': 0.5, 'n_factors': 450}\n",
      "ndcg = 0.029579\n"
     ]
    },
    {
     "name": "stderr",
     "output_type": "stream",
     "text": [
      "100%|██████████| 1/1 [00:01<00:00,  1.14s/it]\n"
     ]
    },
    {
     "name": "stdout",
     "output_type": "stream",
     "text": [
      "params = {'alpha': 0.5, 'n_factors': 500}\n",
      "ndcg = 0.030016\n"
     ]
    },
    {
     "name": "stderr",
     "output_type": "stream",
     "text": [
      "100%|██████████| 1/1 [00:01<00:00,  1.12s/it]\n"
     ]
    },
    {
     "name": "stdout",
     "output_type": "stream",
     "text": [
      "params = {'alpha': 0.6, 'n_factors': 50}\n",
      "ndcg = 0.0367\n"
     ]
    },
    {
     "name": "stderr",
     "output_type": "stream",
     "text": [
      "100%|██████████| 1/1 [00:01<00:00,  1.16s/it]\n"
     ]
    },
    {
     "name": "stdout",
     "output_type": "stream",
     "text": [
      "params = {'alpha': 0.6, 'n_factors': 100}\n",
      "ndcg = 0.035407\n"
     ]
    },
    {
     "name": "stderr",
     "output_type": "stream",
     "text": [
      "100%|██████████| 1/1 [00:01<00:00,  1.13s/it]\n"
     ]
    },
    {
     "name": "stdout",
     "output_type": "stream",
     "text": [
      "params = {'alpha': 0.6, 'n_factors': 150}\n",
      "ndcg = 0.034764\n"
     ]
    },
    {
     "name": "stderr",
     "output_type": "stream",
     "text": [
      "100%|██████████| 1/1 [00:01<00:00,  1.14s/it]\n"
     ]
    },
    {
     "name": "stdout",
     "output_type": "stream",
     "text": [
      "params = {'alpha': 0.6, 'n_factors': 200}\n",
      "ndcg = 0.032362\n"
     ]
    },
    {
     "name": "stderr",
     "output_type": "stream",
     "text": [
      "100%|██████████| 1/1 [00:01<00:00,  1.14s/it]\n"
     ]
    },
    {
     "name": "stdout",
     "output_type": "stream",
     "text": [
      "params = {'alpha': 0.6, 'n_factors': 250}\n",
      "ndcg = 0.03276\n"
     ]
    },
    {
     "name": "stderr",
     "output_type": "stream",
     "text": [
      "100%|██████████| 1/1 [00:01<00:00,  1.13s/it]\n"
     ]
    },
    {
     "name": "stdout",
     "output_type": "stream",
     "text": [
      "params = {'alpha': 0.6, 'n_factors': 300}\n",
      "ndcg = 0.031303\n"
     ]
    },
    {
     "name": "stderr",
     "output_type": "stream",
     "text": [
      "100%|██████████| 1/1 [00:01<00:00,  1.13s/it]\n"
     ]
    },
    {
     "name": "stdout",
     "output_type": "stream",
     "text": [
      "params = {'alpha': 0.6, 'n_factors': 350}\n",
      "ndcg = 0.029794\n"
     ]
    },
    {
     "name": "stderr",
     "output_type": "stream",
     "text": [
      "100%|██████████| 1/1 [00:01<00:00,  1.14s/it]\n"
     ]
    },
    {
     "name": "stdout",
     "output_type": "stream",
     "text": [
      "params = {'alpha': 0.6, 'n_factors': 400}\n",
      "ndcg = 0.029842\n"
     ]
    },
    {
     "name": "stderr",
     "output_type": "stream",
     "text": [
      "100%|██████████| 1/1 [00:01<00:00,  1.14s/it]\n"
     ]
    },
    {
     "name": "stdout",
     "output_type": "stream",
     "text": [
      "params = {'alpha': 0.6, 'n_factors': 450}\n",
      "ndcg = 0.026275\n"
     ]
    },
    {
     "name": "stderr",
     "output_type": "stream",
     "text": [
      "100%|██████████| 1/1 [00:01<00:00,  1.14s/it]\n"
     ]
    },
    {
     "name": "stdout",
     "output_type": "stream",
     "text": [
      "params = {'alpha': 0.6, 'n_factors': 500}\n",
      "ndcg = 0.026454\n"
     ]
    },
    {
     "name": "stderr",
     "output_type": "stream",
     "text": [
      "100%|██████████| 1/1 [00:01<00:00,  1.11s/it]\n"
     ]
    },
    {
     "name": "stdout",
     "output_type": "stream",
     "text": [
      "params = {'alpha': 0.7000000000000001, 'n_factors': 50}\n",
      "ndcg = 0.036222\n"
     ]
    },
    {
     "name": "stderr",
     "output_type": "stream",
     "text": [
      "100%|██████████| 1/1 [00:01<00:00,  1.15s/it]\n"
     ]
    },
    {
     "name": "stdout",
     "output_type": "stream",
     "text": [
      "params = {'alpha': 0.7000000000000001, 'n_factors': 100}\n",
      "ndcg = 0.034786\n"
     ]
    },
    {
     "name": "stderr",
     "output_type": "stream",
     "text": [
      "100%|██████████| 1/1 [00:01<00:00,  1.19s/it]\n"
     ]
    },
    {
     "name": "stdout",
     "output_type": "stream",
     "text": [
      "params = {'alpha': 0.7000000000000001, 'n_factors': 150}\n",
      "ndcg = 0.034823\n"
     ]
    },
    {
     "name": "stderr",
     "output_type": "stream",
     "text": [
      "100%|██████████| 1/1 [00:01<00:00,  1.16s/it]\n"
     ]
    },
    {
     "name": "stdout",
     "output_type": "stream",
     "text": [
      "params = {'alpha': 0.7000000000000001, 'n_factors': 200}\n",
      "ndcg = 0.032208\n"
     ]
    },
    {
     "name": "stderr",
     "output_type": "stream",
     "text": [
      "100%|██████████| 1/1 [00:01<00:00,  1.17s/it]\n"
     ]
    },
    {
     "name": "stdout",
     "output_type": "stream",
     "text": [
      "params = {'alpha': 0.7000000000000001, 'n_factors': 250}\n",
      "ndcg = 0.03087\n"
     ]
    },
    {
     "name": "stderr",
     "output_type": "stream",
     "text": [
      "100%|██████████| 1/1 [00:01<00:00,  1.15s/it]\n"
     ]
    },
    {
     "name": "stdout",
     "output_type": "stream",
     "text": [
      "params = {'alpha': 0.7000000000000001, 'n_factors': 300}\n",
      "ndcg = 0.029988\n"
     ]
    },
    {
     "name": "stderr",
     "output_type": "stream",
     "text": [
      "100%|██████████| 1/1 [00:01<00:00,  1.14s/it]\n"
     ]
    },
    {
     "name": "stdout",
     "output_type": "stream",
     "text": [
      "params = {'alpha': 0.7000000000000001, 'n_factors': 350}\n",
      "ndcg = 0.027585\n"
     ]
    },
    {
     "name": "stderr",
     "output_type": "stream",
     "text": [
      "100%|██████████| 1/1 [00:01<00:00,  1.16s/it]\n"
     ]
    },
    {
     "name": "stdout",
     "output_type": "stream",
     "text": [
      "params = {'alpha': 0.7000000000000001, 'n_factors': 400}\n",
      "ndcg = 0.027099\n"
     ]
    },
    {
     "name": "stderr",
     "output_type": "stream",
     "text": [
      "100%|██████████| 1/1 [00:01<00:00,  1.17s/it]\n"
     ]
    },
    {
     "name": "stdout",
     "output_type": "stream",
     "text": [
      "params = {'alpha': 0.7000000000000001, 'n_factors': 450}\n",
      "ndcg = 0.024789\n"
     ]
    },
    {
     "name": "stderr",
     "output_type": "stream",
     "text": [
      "100%|██████████| 1/1 [00:01<00:00,  1.19s/it]\n"
     ]
    },
    {
     "name": "stdout",
     "output_type": "stream",
     "text": [
      "params = {'alpha': 0.7000000000000001, 'n_factors': 500}\n",
      "ndcg = 0.023848\n"
     ]
    },
    {
     "name": "stderr",
     "output_type": "stream",
     "text": [
      "100%|██████████| 1/1 [00:01<00:00,  1.17s/it]\n"
     ]
    },
    {
     "name": "stdout",
     "output_type": "stream",
     "text": [
      "params = {'alpha': 0.8, 'n_factors': 50}\n",
      "ndcg = 0.035865\n"
     ]
    },
    {
     "name": "stderr",
     "output_type": "stream",
     "text": [
      "100%|██████████| 1/1 [00:01<00:00,  1.14s/it]\n"
     ]
    },
    {
     "name": "stdout",
     "output_type": "stream",
     "text": [
      "params = {'alpha': 0.8, 'n_factors': 100}\n",
      "ndcg = 0.036027\n"
     ]
    },
    {
     "name": "stderr",
     "output_type": "stream",
     "text": [
      "100%|██████████| 1/1 [00:01<00:00,  1.15s/it]\n"
     ]
    },
    {
     "name": "stdout",
     "output_type": "stream",
     "text": [
      "params = {'alpha': 0.8, 'n_factors': 150}\n",
      "ndcg = 0.032741\n"
     ]
    },
    {
     "name": "stderr",
     "output_type": "stream",
     "text": [
      "100%|██████████| 1/1 [00:01<00:00,  1.15s/it]\n"
     ]
    },
    {
     "name": "stdout",
     "output_type": "stream",
     "text": [
      "params = {'alpha': 0.8, 'n_factors': 200}\n",
      "ndcg = 0.032402\n"
     ]
    },
    {
     "name": "stderr",
     "output_type": "stream",
     "text": [
      "100%|██████████| 1/1 [00:01<00:00,  1.14s/it]\n"
     ]
    },
    {
     "name": "stdout",
     "output_type": "stream",
     "text": [
      "params = {'alpha': 0.8, 'n_factors': 250}\n",
      "ndcg = 0.028527\n"
     ]
    },
    {
     "name": "stderr",
     "output_type": "stream",
     "text": [
      "100%|██████████| 1/1 [00:01<00:00,  1.18s/it]\n"
     ]
    },
    {
     "name": "stdout",
     "output_type": "stream",
     "text": [
      "params = {'alpha': 0.8, 'n_factors': 300}\n",
      "ndcg = 0.026435\n"
     ]
    },
    {
     "name": "stderr",
     "output_type": "stream",
     "text": [
      "100%|██████████| 1/1 [00:01<00:00,  1.14s/it]\n"
     ]
    },
    {
     "name": "stdout",
     "output_type": "stream",
     "text": [
      "params = {'alpha': 0.8, 'n_factors': 350}\n",
      "ndcg = 0.025954\n"
     ]
    },
    {
     "name": "stderr",
     "output_type": "stream",
     "text": [
      "100%|██████████| 1/1 [00:01<00:00,  1.18s/it]\n"
     ]
    },
    {
     "name": "stdout",
     "output_type": "stream",
     "text": [
      "params = {'alpha': 0.8, 'n_factors': 400}\n",
      "ndcg = 0.023651\n"
     ]
    },
    {
     "name": "stderr",
     "output_type": "stream",
     "text": [
      "100%|██████████| 1/1 [00:01<00:00,  1.20s/it]\n"
     ]
    },
    {
     "name": "stdout",
     "output_type": "stream",
     "text": [
      "params = {'alpha': 0.8, 'n_factors': 450}\n",
      "ndcg = 0.022186\n"
     ]
    },
    {
     "name": "stderr",
     "output_type": "stream",
     "text": [
      "100%|██████████| 1/1 [00:01<00:00,  1.23s/it]\n"
     ]
    },
    {
     "name": "stdout",
     "output_type": "stream",
     "text": [
      "params = {'alpha': 0.8, 'n_factors': 500}\n",
      "ndcg = 0.021361\n"
     ]
    }
   ],
   "source": [
    "best_params, max_ndcg = grid_search(param_list, train, val_users_history_1, val_1)"
   ]
  },
  {
   "cell_type": "code",
   "execution_count": 12,
   "id": "6aa8c384-3119-46f1-a56c-ff9363f71bba",
   "metadata": {},
   "outputs": [
    {
     "data": {
      "text/plain": [
       "({'alpha': 0.4, 'n_factors': 150}, 0.037926)"
      ]
     },
     "execution_count": 12,
     "metadata": {},
     "output_type": "execute_result"
    }
   ],
   "source": [
    "best_params, max_ndcg"
   ]
  },
  {
   "cell_type": "code",
   "execution_count": 4,
   "id": "872d7f21-763c-445e-b20d-20187d4f80e1",
   "metadata": {},
   "outputs": [],
   "source": [
    "best_params = {'alpha': 0.4, 'n_factors': 150}"
   ]
  },
  {
   "cell_type": "code",
   "execution_count": 5,
   "id": "77421714-dd05-4df1-b6cd-14521a4cb612",
   "metadata": {},
   "outputs": [
    {
     "name": "stderr",
     "output_type": "stream",
     "text": [
      "100%|██████████| 1/1 [00:01<00:00,  1.23s/it]\n",
      "100%|██████████| 1/1 [00:02<00:00,  2.15s/it]\n"
     ]
    }
   ],
   "source": [
    "svd = SVD(**best_params)\n",
    "svd.fit(train)\n",
    "scores_val = svd.predict_folding_in(val_users_history_2)\n",
    "scores_test = svd.predict_folding_in(test_users_history)\n",
    "\n",
    "preds_val = svd.get_top_k(scores_val, user_col='test_user_idx') \n",
    "preds_test = svd.get_top_k(scores_test, user_col='test_user_idx')\n",
    "\n",
    "preds_val = preds_val.merge(val_2, on='test_user_idx', how='inner')\n",
    "preds_test = preds_test.merge(test, on='test_user_idx', how='inner') \n",
    "\n",
    "metrics_df, beta = get_metrics(preds_test, preds_val)"
   ]
  },
  {
   "cell_type": "code",
   "execution_count": 6,
   "id": "2db50d26-4e65-45cd-a3e9-961de5111807",
   "metadata": {},
   "outputs": [
    {
     "data": {
      "text/html": [
       "<div>\n",
       "<style scoped>\n",
       "    .dataframe tbody tr th:only-of-type {\n",
       "        vertical-align: middle;\n",
       "    }\n",
       "\n",
       "    .dataframe tbody tr th {\n",
       "        vertical-align: top;\n",
       "    }\n",
       "\n",
       "    .dataframe thead th {\n",
       "        text-align: right;\n",
       "    }\n",
       "</style>\n",
       "<table border=\"1\" class=\"dataframe\">\n",
       "  <thead>\n",
       "    <tr style=\"text-align: right;\">\n",
       "      <th></th>\n",
       "      <th>type</th>\n",
       "      <th>HR</th>\n",
       "      <th>MRR</th>\n",
       "      <th>nDCG</th>\n",
       "    </tr>\n",
       "  </thead>\n",
       "  <tbody>\n",
       "    <tr>\n",
       "      <th>0</th>\n",
       "      <td>Biased</td>\n",
       "      <td>0.088995</td>\n",
       "      <td>0.022310</td>\n",
       "      <td>0.037369</td>\n",
       "    </tr>\n",
       "    <tr>\n",
       "      <th>1</th>\n",
       "      <td>Unbiased</td>\n",
       "      <td>0.147800</td>\n",
       "      <td>0.081114</td>\n",
       "      <td>0.079055</td>\n",
       "    </tr>\n",
       "    <tr>\n",
       "      <th>2</th>\n",
       "      <td>Unbiased_feedback_sampling</td>\n",
       "      <td>0.532370</td>\n",
       "      <td>0.178634</td>\n",
       "      <td>0.047297</td>\n",
       "    </tr>\n",
       "  </tbody>\n",
       "</table>\n",
       "</div>"
      ],
      "text/plain": [
       "                         type        HR       MRR      nDCG\n",
       "0                      Biased  0.088995  0.022310  0.037369\n",
       "1                    Unbiased  0.147800  0.081114  0.079055\n",
       "2  Unbiased_feedback_sampling  0.532370  0.178634  0.047297"
      ]
     },
     "execution_count": 6,
     "metadata": {},
     "output_type": "execute_result"
    }
   ],
   "source": [
    "metrics_df"
   ]
  },
  {
   "cell_type": "code",
   "execution_count": 7,
   "id": "8dd4df11-3f01-49d3-8653-1bc7f1e4e730",
   "metadata": {},
   "outputs": [
    {
     "data": {
      "text/plain": [
       "0.06454922265522797"
      ]
     },
     "execution_count": 7,
     "metadata": {},
     "output_type": "execute_result"
    }
   ],
   "source": [
    "beta"
   ]
  },
  {
   "cell_type": "code",
   "execution_count": 8,
   "id": "6d704cb3-840f-4454-baf9-642b52cd7cd1",
   "metadata": {},
   "outputs": [],
   "source": [
    "preds_test_pos = preds_test[preds_test['rating'] >= 3.5]"
   ]
  },
  {
   "cell_type": "code",
   "execution_count": 9,
   "id": "a0f6c396-30ee-463d-816c-af663694f417",
   "metadata": {},
   "outputs": [
    {
     "data": {
      "text/plain": [
       "(0.53237, 0.0012565594698326077)"
      ]
     },
     "execution_count": 9,
     "metadata": {},
     "output_type": "execute_result"
    }
   ],
   "source": [
    "hr(preds_test_pos, beta=beta, sample_feedback=True, return_confidence_interval=True)"
   ]
  },
  {
   "cell_type": "code",
   "execution_count": 10,
   "id": "832e0c27-44ba-4ce4-a943-6cd79eab97f1",
   "metadata": {},
   "outputs": [
    {
     "data": {
      "text/plain": [
       "(0.178634, 0.0007327384206406162)"
      ]
     },
     "execution_count": 10,
     "metadata": {},
     "output_type": "execute_result"
    }
   ],
   "source": [
    "mrr(preds_test_pos, beta=beta, sample_feedback=True, return_confidence_interval=True)"
   ]
  },
  {
   "cell_type": "code",
   "execution_count": 11,
   "id": "494a2900-3519-4a88-aa3f-ac211b9bf713",
   "metadata": {},
   "outputs": [
    {
     "data": {
      "text/plain": [
       "(0.047297, 3.293627487450934e-05)"
      ]
     },
     "execution_count": 11,
     "metadata": {},
     "output_type": "execute_result"
    }
   ],
   "source": [
    "ndcg(preds_test_pos, beta=beta, sample_feedback=True, return_confidence_interval=True)"
   ]
  },
  {
   "cell_type": "code",
   "execution_count": null,
   "id": "03e87d3f-84d3-483d-82cd-4cbbd0a2984a",
   "metadata": {},
   "outputs": [],
   "source": []
  }
 ],
 "metadata": {
  "kernelspec": {
   "display_name": "Python 3 (ipykernel)",
   "language": "python",
   "name": "python3"
  },
  "language_info": {
   "codemirror_mode": {
    "name": "ipython",
    "version": 3
   },
   "file_extension": ".py",
   "mimetype": "text/x-python",
   "name": "python",
   "nbconvert_exporter": "python",
   "pygments_lexer": "ipython3",
   "version": "3.11.7"
  }
 },
 "nbformat": 4,
 "nbformat_minor": 5
}
